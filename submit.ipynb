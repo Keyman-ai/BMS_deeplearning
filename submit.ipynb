{
 "cells": [
  {
   "cell_type": "markdown",
   "id": "73c92a33",
   "metadata": {
    "papermill": {
     "duration": 0.016052,
     "end_time": "2024-04-01T01:54:06.818342",
     "exception": false,
     "start_time": "2024-04-01T01:54:06.802290",
     "status": "completed"
    },
    "tags": []
   },
   "source": [
    "# <b><span style='color:#F1A424'>|</span> HMS: <span style='color:#F1A424'>Harmful Brain Activity Classification</span><span style='color:#ABABAB'> [Inference]</span></b> \n",
    "\n",
    "***\n",
    "\n",
    "**Consider upvoting this notebook if you find it useful 🙌🏼**\n",
    "\n",
    "- [Train Notebook](https://www.kaggle.com/alejopaullier/hms-efficientnetb0-pytorch-train)\n",
    "\n",
    "\n",
    "Your goal in this competition is to detect and classify seizures and other types of harmful brain activity. You will develop a model trained on electroencephalography (EEG) signals recorded from critically ill hospital patients.\n",
    "\n",
    "In this notebook you will learn how to infer with an `efficientnet` model for image classification using PyTorch. Hope you enjoy it and find it useful.\n",
    "\n",
    "### <b><span style='color:#F1A424'>Table of Contents</span></b> <a class='anchor' id='top'></a>\n",
    "<div style=\" background-color:#3b3745; padding: 13px 13px; border-radius: 8px; color: white\">\n",
    "<li><a href=\"#import_libraries\">Import Libraries</a></li>\n",
    "<li><a href=\"#configuration\">Configuration</a></li>\n",
    "<li><a href=\"#utils\">Utils</a></li>\n",
    "<li><a href=\"#load_data\">Load Data</a></li>\n",
    "<li><a href=\"#dataset\">Dataset</a></li>\n",
    "<li><a href=\"#dataloader\">DataLoader</a></li>\n",
    "<li><a href=\"#model\">Model</a></li>\n",
    "<li><a href=\"#inference_function\">Inference Function</a></li>\n",
    "<li><a href=\"#infer\">Infer</a></li>\n",
    "<li><a href=\"#submission\">Save Submission</a></li>\n",
    "</div>"
   ]
  },
  {
   "cell_type": "markdown",
   "id": "8cae3e96",
   "metadata": {
    "papermill": {
     "duration": 0.015351,
     "end_time": "2024-04-01T01:54:06.849434",
     "exception": false,
     "start_time": "2024-04-01T01:54:06.834083",
     "status": "completed"
    },
    "tags": []
   },
   "source": [
    "# <b><span style='color:#F1A424'>|</span> Import Libraries</b><a class='anchor' id='import_libraries'></a> [↑](#top) \n",
    "\n",
    "***\n",
    "\n",
    "Import all the required libraries for this notebook."
   ]
  },
  {
   "cell_type": "code",
   "execution_count": 1,
   "id": "b6184a7e",
   "metadata": {
    "execution": {
     "iopub.execute_input": "2024-04-01T01:54:06.882096Z",
     "iopub.status.busy": "2024-04-01T01:54:06.881740Z",
     "iopub.status.idle": "2024-04-01T01:55:26.065507Z",
     "shell.execute_reply": "2024-04-01T01:55:26.064369Z"
    },
    "papermill": {
     "duration": 79.226508,
     "end_time": "2024-04-01T01:55:26.091514",
     "exception": false,
     "start_time": "2024-04-01T01:54:06.865006",
     "status": "completed"
    },
    "tags": []
   },
   "outputs": [
    {
     "name": "stdout",
     "output_type": "stream",
     "text": [
      "CPU times: user 1.22 s, sys: 239 ms, total: 1.46 s\n",
      "Wall time: 1min 19s\n"
     ]
    }
   ],
   "source": [
    "%%time\n",
    "# Installation of RAPIDS to Use cuSignal\n",
    "import sys\n",
    "\n",
    "!cp ../input/rapids/rapids.0.17.0 /opt/conda/envs/rapids.tar.gz\n",
    "!cd /opt/conda/envs/ && tar -xzvf rapids.tar.gz > /dev/null\n",
    "!rm /opt/conda/envs/rapids.tar.gz\n",
    "\n",
    "sys.path += [\"/opt/conda/envs/rapids/lib/python3.7/site-packages\"]\n",
    "sys.path += [\"/opt/conda/envs/rapids/lib/python3.7\"]\n",
    "sys.path += [\"/opt/conda/envs/rapids/lib\"]\n",
    "!cp /opt/conda/envs/rapids/lib/libxgboost.so /opt/conda/lib/"
   ]
  },
  {
   "cell_type": "code",
   "execution_count": 2,
   "id": "989a52ff",
   "metadata": {
    "execution": {
     "iopub.execute_input": "2024-04-01T01:55:26.126654Z",
     "iopub.status.busy": "2024-04-01T01:55:26.126237Z",
     "iopub.status.idle": "2024-04-01T01:55:38.249046Z",
     "shell.execute_reply": "2024-04-01T01:55:38.248291Z"
    },
    "papermill": {
     "duration": 12.143702,
     "end_time": "2024-04-01T01:55:38.251403",
     "exception": false,
     "start_time": "2024-04-01T01:55:26.107701",
     "status": "completed"
    },
    "tags": []
   },
   "outputs": [
    {
     "name": "stderr",
     "output_type": "stream",
     "text": [
      "/opt/conda/lib/python3.10/site-packages/scipy/__init__.py:146: UserWarning: A NumPy version >=1.16.5 and <1.23.0 is required for this version of SciPy (detected version 1.24.3\n",
      "  warnings.warn(f\"A NumPy version >={np_minversion} and <{np_maxversion}\"\n"
     ]
    },
    {
     "name": "stdout",
     "output_type": "stream",
     "text": [
      "Using 1 GPU(s)\n"
     ]
    }
   ],
   "source": [
    "import albumentations as A\n",
    "import gc\n",
    "import librosa\n",
    "import matplotlib.pyplot as plt\n",
    "import math\n",
    "import multiprocessing\n",
    "import numpy as np\n",
    "import os\n",
    "import pandas as pd\n",
    "import pywt\n",
    "import random\n",
    "import time\n",
    "import timm\n",
    "import torch\n",
    "import torch.nn as nn\n",
    "from typing import Any, Callable, Dict, List, Optional, Tuple, Type, Union\n",
    "from torch import Tensor\n",
    "\n",
    "from albumentations.pytorch import ToTensorV2\n",
    "from glob import glob\n",
    "from torch.utils.data import DataLoader, Dataset\n",
    "from tqdm import tqdm\n",
    "from typing import Dict, List\n",
    "\n",
    "os.environ[\"CUDA_VISIBLE_DEVICES\"] = \"0,1\"\n",
    "device = torch.device(\"cuda:0\" if torch.cuda.is_available() else \"cpu\")\n",
    "print('Using', torch.cuda.device_count(), 'GPU(s)')\n",
    "import torch.nn.functional as F\n",
    "\n",
    "import cupy as cp\n",
    "import cusignal\n",
    "import numpy as np\n",
    "from scipy.ndimage import gaussian_filter\n",
    "from scipy.signal import butter, filtfilt, iirnotch\n",
    "import os\n",
    "import cv2\n",
    "from tqdm import tqdm\n",
    "\n",
    "import torchvision.transforms as transforms\n",
    "import matplotlib.pyplot as plt\n",
    "\n",
    "from scipy import signal"
   ]
  },
  {
   "cell_type": "markdown",
   "id": "fad95fa8",
   "metadata": {
    "papermill": {
     "duration": 0.015423,
     "end_time": "2024-04-01T01:55:38.282934",
     "exception": false,
     "start_time": "2024-04-01T01:55:38.267511",
     "status": "completed"
    },
    "tags": []
   },
   "source": [
    "# <b><span style='color:#F1A424'>|</span> Configuration</b><a class='anchor' id='configuration'></a> [↑](#top) \n",
    "\n",
    "***"
   ]
  },
  {
   "cell_type": "code",
   "execution_count": 3,
   "id": "a494e8a2",
   "metadata": {
    "execution": {
     "iopub.execute_input": "2024-04-01T01:55:38.315663Z",
     "iopub.status.busy": "2024-04-01T01:55:38.315319Z",
     "iopub.status.idle": "2024-04-01T01:55:38.324934Z",
     "shell.execute_reply": "2024-04-01T01:55:38.324161Z"
    },
    "papermill": {
     "duration": 0.028451,
     "end_time": "2024-04-01T01:55:38.326934",
     "exception": false,
     "start_time": "2024-04-01T01:55:38.298483",
     "status": "completed"
    },
    "tags": []
   },
   "outputs": [
    {
     "data": {
      "text/plain": [
       "['/kaggle/input/2d-new/v17_newdata/wavenet_fold_0_s2_best.pth',\n",
       " '/kaggle/input/2d-new/v17_newdata/wavenet_fold_1_s2_best.pth',\n",
       " '/kaggle/input/2d-new/v17_newdata/wavenet_fold_2_s2_best.pth',\n",
       " '/kaggle/input/2d-new/v17_newdata/wavenet_fold_3_s2_best.pth',\n",
       " '/kaggle/input/2d-new/v17_newdata/wavenet_fold_4_s2_best.pth']"
      ]
     },
     "execution_count": 3,
     "metadata": {},
     "output_type": "execute_result"
    }
   ],
   "source": [
    "class config:\n",
    "    BATCH_SIZE = 1\n",
    "    backbone_2d = \"tf_efficientnet_b0\"\n",
    "    NUM_WORKERS = 0 # multiprocessing.cpu_count()\n",
    "    PRINT_FREQ = 20\n",
    "    SEED = 20\n",
    "    VISUALIZE = False\n",
    "    num_channels = 8\n",
    "    pretrained = False\n",
    "    augment = False\n",
    "    image_transform = transforms.Resize((512,512)) \n",
    "    \n",
    "class paths:\n",
    "#     MODEL_WEIGHTS = \"/kaggle/input/hms-multi-class-image-classification-train/tf_efficientnet_b0_epoch_3.pth\"\n",
    "    OUTPUT_DIR = \"/kaggle/working/\"\n",
    "    TEST_CSV = \"/kaggle/input/hms-harmful-brain-activity-classification/test.csv\"\n",
    "    TEST_EEGS= \"/kaggle/input/hms-harmful-brain-activity-classification/test_eegs/\"\n",
    "    TEST_SPECTROGRAMS = \"/kaggle/input/hms-harmful-brain-activity-classification/test_spectrograms/\"\n",
    "    \n",
    "# model_weights = [x for x in glob(\"/kaggle/input/2d-new/v16/*.pth\")]\n",
    "model_weights = [f\"/kaggle/input/2d-new/v17_newdata/wavenet_fold_{x}_s2_best.pth\" for x in range(5)]\n",
    "# model_weights.append('/kaggle/input/2d-new/v17_newdata/all_data_epoch_4.pth')\n",
    "model_weights"
   ]
  },
  {
   "cell_type": "markdown",
   "id": "96877793",
   "metadata": {
    "papermill": {
     "duration": 0.015516,
     "end_time": "2024-04-01T01:55:38.358271",
     "exception": false,
     "start_time": "2024-04-01T01:55:38.342755",
     "status": "completed"
    },
    "tags": []
   },
   "source": [
    "# <b><span style='color:#F1A424'>|</span> Utils</b><a class='anchor' id='utils'></a> [↑](#top) \n",
    "\n",
    "***\n",
    "\n",
    "Utility functions:\n",
    "- [pywt.wavedec][1]\n",
    "\n",
    "[1]: https://pywavelets.readthedocs.io/en/latest/ref/dwt-discrete-wavelet-transform.html#multilevel-decomposition-using-wavedec"
   ]
  },
  {
   "cell_type": "code",
   "execution_count": 4,
   "id": "f7db8261",
   "metadata": {
    "_kg_hide-input": true,
    "execution": {
     "iopub.execute_input": "2024-04-01T01:55:38.392268Z",
     "iopub.status.busy": "2024-04-01T01:55:38.391936Z",
     "iopub.status.idle": "2024-04-01T01:55:38.460819Z",
     "shell.execute_reply": "2024-04-01T01:55:38.460112Z"
    },
    "papermill": {
     "duration": 0.088301,
     "end_time": "2024-04-01T01:55:38.462844",
     "exception": false,
     "start_time": "2024-04-01T01:55:38.374543",
     "status": "completed"
    },
    "tags": []
   },
   "outputs": [],
   "source": [
    "USE_WAVELET = None \n",
    "\n",
    "NAMES = ['LL','LP','RP','RR']\n",
    "\n",
    "FEATS = [['Fp1','F7','T3','T5','O1'],\n",
    "         ['Fp1','F3','C3','P3','O1'],\n",
    "         ['Fp2','F8','T4','T6','O2'],\n",
    "         ['Fp2','F4','C4','P4','O2']]\n",
    "\n",
    "def maddest(d, axis: int = None):\n",
    "    \"\"\"\n",
    "    Denoise function.\n",
    "    \"\"\"\n",
    "    return np.mean(np.absolute(d - np.mean(d, axis)), axis)\n",
    "\n",
    "def denoise(x: np.ndarray, wavelet: str = 'haar', level: int = 1): \n",
    "    coeff = pywt.wavedec(x, wavelet, mode=\"per\") # multilevel 1D Discrete Wavelet Transform of data.\n",
    "    sigma = (1/0.6745) * maddest(coeff[-level])\n",
    "    uthresh = sigma * np.sqrt(2*np.log(len(x)))\n",
    "    coeff[1:] = (pywt.threshold(i, value=uthresh, mode='hard') for i in coeff[1:])\n",
    "    output = pywt.waverec(coeff, wavelet, mode='per')\n",
    "    return output\n",
    "\n",
    "def spectrogram_from_eeg(parquet_path, display=False):\n",
    "    # LOAD MIDDLE 50 SECONDS OF EEG SERIES\n",
    "    eeg = pd.read_parquet(parquet_path)\n",
    "    middle = (len(eeg)-10_000)//2\n",
    "    eeg = eeg.iloc[middle:middle+10_000]\n",
    "    \n",
    "    # VARIABLE TO HOLD SPECTROGRAM\n",
    "    img = np.zeros((128,256,4),dtype='float32')\n",
    "    \n",
    "    if display:\n",
    "        plt.figure(figsize=(10,7))\n",
    "    signals = []\n",
    "    for k in range(4):\n",
    "        COLS = FEATS[k]\n",
    "        \n",
    "        for kk in range(4):\n",
    "        \n",
    "            # COMPUTE PAIR DIFFERENCES\n",
    "            x = eeg[COLS[kk]].values - eeg[COLS[kk+1]].values\n",
    "\n",
    "            # FILL NANS\n",
    "            m = np.nanmean(x)\n",
    "            if np.isnan(x).mean()<1: x = np.nan_to_num(x,nan=m)\n",
    "            else: x[:] = 0\n",
    "\n",
    "            # DENOISE\n",
    "            if USE_WAVELET:\n",
    "                x = denoise(x, wavelet=USE_WAVELET)\n",
    "            signals.append(x)\n",
    "\n",
    "            # RAW SPECTROGRAM\n",
    "            mel_spec = librosa.feature.melspectrogram(y=x, sr=200, hop_length=len(x)//256, \n",
    "                  n_fft=1024, n_mels=128, fmin=0, fmax=20, win_length=128)\n",
    "\n",
    "            # LOG TRANSFORM\n",
    "            width = (mel_spec.shape[1]//32)*32\n",
    "            mel_spec_db = librosa.power_to_db(mel_spec, ref=np.max).astype(np.float32)[:,:width]\n",
    "\n",
    "            # STANDARDIZE TO -1 TO 1\n",
    "            mel_spec_db = (mel_spec_db+40)/40 \n",
    "            img[:,:,k] += mel_spec_db\n",
    "                \n",
    "        # AVERAGE THE 4 MONTAGE DIFFERENCES\n",
    "        img[:,:,k] /= 4.0\n",
    "        \n",
    "        if display:\n",
    "            plt.subplot(2,2,k+1)\n",
    "            plt.imshow(img[:,:,k],aspect='auto',origin='lower')\n",
    "            plt.title(f'EEG {eeg_id} - Spectrogram {NAMES[k]}')\n",
    "            \n",
    "    if display: \n",
    "        plt.show()\n",
    "        plt.figure(figsize=(10,5))\n",
    "        offset = 0\n",
    "        for k in range(4):\n",
    "            if k>0: offset -= signals[3-k].min()\n",
    "            plt.plot(range(10_000),signals[k]+offset,label=NAMES[3-k])\n",
    "            offset += signals[3-k].max()\n",
    "        plt.legend()\n",
    "        plt.title(f'EEG {eeg_id} Signals')\n",
    "        plt.show()\n",
    "        print(); print('#'*25); print()\n",
    "        \n",
    "    return img\n",
    "\n",
    "def plot_spectrogram(spectrogram_path: str):\n",
    "    \"\"\"\n",
    "    Source: https://www.kaggle.com/code/mvvppp/hms-eda-and-domain-journey\n",
    "    Visualize spectrogram recordings from a parquet file.\n",
    "    :param spectrogram_path: path to the spectrogram parquet.\n",
    "    \"\"\"\n",
    "    sample_spect = pd.read_parquet(spectrogram_path)\n",
    "    \n",
    "    split_spect = {\n",
    "        \"LL\": sample_spect.filter(regex='^LL', axis=1),\n",
    "        \"RL\": sample_spect.filter(regex='^RL', axis=1),\n",
    "        \"RP\": sample_spect.filter(regex='^RP', axis=1),\n",
    "        \"LP\": sample_spect.filter(regex='^LP', axis=1),\n",
    "    }\n",
    "    \n",
    "    fig, axes = plt.subplots(nrows=2, ncols=2, figsize=(15, 12))\n",
    "    axes = axes.flatten()\n",
    "    label_interval = 5\n",
    "    for i, split_name in enumerate(split_spect.keys()):\n",
    "        ax = axes[i]\n",
    "        img = ax.imshow(np.log(split_spect[split_name]).T, cmap='viridis', aspect='auto', origin='lower')\n",
    "        cbar = fig.colorbar(img, ax=ax)\n",
    "        cbar.set_label('Log(Value)')\n",
    "        ax.set_title(split_name)\n",
    "        ax.set_ylabel(\"Frequency (Hz)\")\n",
    "        ax.set_xlabel(\"Time\")\n",
    "\n",
    "        ax.set_yticks(np.arange(len(split_spect[split_name].columns)))\n",
    "        ax.set_yticklabels([column_name[3:] for column_name in split_spect[split_name].columns])\n",
    "        frequencies = [column_name[3:] for column_name in split_spect[split_name].columns]\n",
    "        ax.set_yticks(np.arange(0, len(split_spect[split_name].columns), label_interval))\n",
    "        ax.set_yticklabels(frequencies[::label_interval])\n",
    "    plt.tight_layout()\n",
    "    plt.show()\n",
    "\n",
    "    \n",
    "def seed_everything(seed: int):\n",
    "    random.seed(seed)\n",
    "    np.random.seed(seed)\n",
    "    torch.manual_seed(seed)\n",
    "    os.environ['PYTHONHASHSEED'] = str(seed) \n",
    "\n",
    "    \n",
    "def sep():\n",
    "    print(\"-\"*100)\n",
    "\n",
    "    \n",
    "def create_spectrogram_with_cusignal(eeg_data, eeg_id, start, duration= 50,\n",
    "                                    low_cut_freq = 0.7, high_cut_freq = 20, order_band = 5,\n",
    "                                    spec_size_freq = 267, spec_size_time = 30,\n",
    "                                    nperseg_ = 1500, noverlap_ = 1483, nfft_ = 2750,\n",
    "                                    sigma_gaussian = 0.7, \n",
    "                                    mean_montage_names = 4):\n",
    "    \n",
    "    electrode_names = ['LL', 'RL', 'LP', 'RP']\n",
    "\n",
    "    electrode_pairs = [\n",
    "        ['Fp1', 'F7', 'T3', 'T5', 'O1'],\n",
    "        ['Fp2', 'F8', 'T4', 'T6', 'O2'],\n",
    "        ['Fp1', 'F3', 'C3', 'P3', 'O1'],\n",
    "        ['Fp2', 'F4', 'C4', 'P4', 'O2']\n",
    "    ]\n",
    "    \n",
    "    # Filter specifications\n",
    "    nyquist_freq = 0.5 * 200\n",
    "    low_cut_freq_normalized = low_cut_freq / nyquist_freq\n",
    "    high_cut_freq_normalized = high_cut_freq / nyquist_freq\n",
    "\n",
    "    # Bandpass and notch filter\n",
    "    bandpass_coefficients = butter(order_band, [low_cut_freq_normalized, high_cut_freq_normalized], btype='band')\n",
    "    notch_coefficients = iirnotch(w0=60, Q=30, fs=200)\n",
    "    \n",
    "    spec_size = duration * 200\n",
    "    start = start * 200\n",
    "    real_start = start + (10_000//2) - (spec_size//2)\n",
    "    eeg_data = eeg_data.iloc[real_start:real_start+spec_size]\n",
    "    \n",
    "    \n",
    "    # Spectrogram parameters\n",
    "    fs = 200\n",
    "    nperseg = nperseg_\n",
    "    noverlap = noverlap_\n",
    "    nfft = nfft_\n",
    "    \n",
    "    if spec_size_freq <=0 or spec_size_time <=0:\n",
    "        frequencias_size = int((nfft // 2)/5.15198)+1\n",
    "        segmentos = int((spec_size - noverlap) / (nperseg - noverlap)) \n",
    "    else:\n",
    "        frequencias_size = spec_size_freq\n",
    "        segmentos = spec_size_time\n",
    "        \n",
    "    spectrogram = cp.zeros((frequencias_size, segmentos, 4), dtype='float32')\n",
    "    \n",
    "    processed_eeg = {}\n",
    "\n",
    "    for i, name in enumerate(electrode_names):\n",
    "        cols = electrode_pairs[i]\n",
    "        processed_eeg[name] = np.zeros(spec_size)\n",
    "        for j in range(4):\n",
    "            # Compute differential signals\n",
    "            # print(cols[j])\n",
    "            signal = cp.array(eeg_data[cols[j]].values - eeg_data[cols[j+1]].values)\n",
    "\n",
    "            # Handle NaNs\n",
    "            mean_signal = cp.nanmean(signal)\n",
    "            signal = cp.nan_to_num(signal, nan=mean_signal) if cp.isnan(signal).mean() < 1 else cp.zeros_like(signal)\n",
    "            \n",
    "\n",
    "            # Filter bandpass and notch\n",
    "            signal_filtered = filtfilt(*notch_coefficients, signal.get())\n",
    "            signal_filtered = filtfilt(*bandpass_coefficients, signal_filtered)\n",
    "            signal = cp.asarray(signal_filtered)\n",
    "            \n",
    "            frequencies, times, Sxx = cusignal.spectrogram(signal, fs, nperseg=nperseg, noverlap=noverlap, nfft=nfft)\n",
    "\n",
    "            # Filter frequency range\n",
    "            valid_freqs = (frequencies >= 0.59) & (frequencies <= 20)\n",
    "            frequencies_filtered = frequencies[valid_freqs]\n",
    "            Sxx_filtered = Sxx[valid_freqs, :]\n",
    "\n",
    "            # Logarithmic transformation and normalization using Cupy\n",
    "            spectrogram_slice = cp.clip(Sxx_filtered, cp.exp(-4), cp.exp(6))\n",
    "            spectrogram_slice = cp.log10(spectrogram_slice)\n",
    "\n",
    "            normalization_epsilon = 1e-6\n",
    "            mean = spectrogram_slice.mean(axis=(0, 1), keepdims=True)\n",
    "            std = spectrogram_slice.std(axis=(0, 1), keepdims=True)\n",
    "            spectrogram_slice = (spectrogram_slice - mean) / (std + normalization_epsilon)\n",
    "            \n",
    "            spectrogram[:, :, i] += spectrogram_slice\n",
    "            processed_eeg[f'{cols[j]}_{cols[j+1]}'] = signal.get()\n",
    "            processed_eeg[name] += signal.get()\n",
    "        \n",
    "        # AVERAGE THE 4 MONTAGE DIFFERENCES\n",
    "        if mean_montage_names > 0:\n",
    "            spectrogram[:,:,i] /= mean_montage_names\n",
    "\n",
    "    # Convert to NumPy and apply Gaussian filter\n",
    "    spectrogram_np = cp.asnumpy(spectrogram)\n",
    "    if sigma_gaussian > 0.0:\n",
    "        spectrogram_np = gaussian_filter(spectrogram_np, sigma=sigma_gaussian)\n",
    "\n",
    "    # Filter EKG signal\n",
    "    ekg_signal_filtered = filtfilt(*notch_coefficients, eeg_data[\"EKG\"].values)\n",
    "    ekg_signal_filtered = filtfilt(*bandpass_coefficients, ekg_signal_filtered)\n",
    "    processed_eeg['EKG'] = np.array(ekg_signal_filtered)\n",
    "\n",
    "    return spectrogram_np, processed_eeg\n",
    "\n",
    "\n",
    "def create_spectogram_competition(spec_id, seconds_min):\n",
    "    spec = pd.read_parquet(paths.TEST_SPECTROGRAMS + f'{spec_id}.parquet')\n",
    "#     spec = pd.read_parquet('/kaggle/input/hms-harmful-brain-activity-classification/train_spectrograms/' + f'{spec_id}.parquet')\n",
    "\n",
    "    inicio = (seconds_min) // 2\n",
    "    img = spec.fillna(0).values[:, 1:].T.astype(\"float32\")\n",
    "    img = img[:, inicio:inicio+300]\n",
    "    \n",
    "    # Log transform and normalize\n",
    "    img = np.clip(img, np.exp(-4), np.exp(6))\n",
    "    img = np.log(img)\n",
    "    eps = 1e-6\n",
    "    img_mean = img.mean()\n",
    "    img_std = img.std()\n",
    "    img = (img - img_mean) / (img_std + eps)\n",
    "    \n",
    "    return img \n",
    "\n",
    "\n",
    "def create_512_spec(eeg_data, eeg_id, spec_id, start_second = 0, seconds_min = 0):\n",
    "    image_50s, _ = create_spectrogram_with_cusignal(eeg_data=eeg_data, eeg_id=eeg_id, start=start_second, duration= 50,\n",
    "                                    low_cut_freq = 0.7, high_cut_freq = 20, order_band = 5,\n",
    "                                    spec_size_freq = 267, spec_size_time = 501,\n",
    "                                    nperseg_ = 1500, noverlap_ = 1483, nfft_ = 2750,\n",
    "                                    sigma_gaussian = 0.0, \n",
    "                                    mean_montage_names = 4)\n",
    "    image_10s, _ = create_spectrogram_with_cusignal(eeg_data=eeg_data, eeg_id=eeg_id, start=start_second, duration= 10,\n",
    "                                    low_cut_freq = 0.7, high_cut_freq = 20, order_band = 5,\n",
    "                                    spec_size_freq = 100, spec_size_time = 291,\n",
    "                                    nperseg_ = 260, noverlap_ = 254, nfft_ = 1030,\n",
    "                                    sigma_gaussian = 0.0, \n",
    "                                    mean_montage_names = 4)\n",
    "    image_10m = create_spectogram_competition(spec_id, seconds_min)\n",
    "    \n",
    "    imagem_final_unico_canal = np.zeros((1068, 501))\n",
    "    for j in range(4):\n",
    "        inicio = j * 267 \n",
    "        fim = inicio + 267\n",
    "        imagem_final_unico_canal[inicio:fim, :] = image_50s[:, :, j]\n",
    "        \n",
    "    \n",
    "    imagem_final_unico_canal2 = np.zeros((400, 291))\n",
    "    for n in range(4):\n",
    "        inicio = n * 100 \n",
    "        fim = inicio + 100\n",
    "        imagem_final_unico_canal2[inicio:fim, :] = image_10s[:, :, n]\n",
    "    \n",
    "    imagem_final_unico_canal_resized = cv2.resize(imagem_final_unico_canal, (400, 800), interpolation=cv2.INTER_AREA)\n",
    "    imagem_final_unico_canal2_resized = cv2.resize(imagem_final_unico_canal2, (300, 400), interpolation=cv2.INTER_AREA)\n",
    "    eeg_new_resized = cv2.resize(image_10m, (300, 400), interpolation=cv2.INTER_AREA)\n",
    "    imagem_final = np.zeros((800, 700), dtype=np.float32)\n",
    "    imagem_final[0:800, 0:400] = imagem_final_unico_canal_resized\n",
    "    imagem_final[0:400,400:700] = imagem_final_unico_canal2_resized\n",
    "    imagem_final[400:800, 400:700] = eeg_new_resized\n",
    "    imagem_final = imagem_final[::-1]\n",
    "    \n",
    "    imagem_final = cv2.resize(imagem_final, (512, 512), interpolation=cv2.INTER_AREA)\n",
    "    \n",
    "    return imagem_final\n",
    "\n",
    "def create_spectrogram(data):\n",
    "    \"\"\"This function will create the spectrograms based on the EEG data with the 'magic formula'.\"\"\"\n",
    "    nperseg = 150  # Length of each segment\n",
    "    noverlap = 128  # Overlap between segments\n",
    "    NFFT = max(256, 2 ** int(np.ceil(np.log2(nperseg))))\n",
    "\n",
    "    # LL Spec = ( spec(Fp1 - F7) + spec(F7 - T3) + spec(T3 - T5) + spec(T5 - O1) )/4\n",
    "    freqs, t,spectrum_LL1 = signal.spectrogram(data[:,feature_to_index['Fp1']]-data[:,feature_to_index['F7']],nfft=NFFT,noverlap = noverlap,nperseg=nperseg)\n",
    "    freqs, t,spectrum_LL2 = signal.spectrogram(data[:,feature_to_index['F7']]-data[:,feature_to_index['T3']],nfft=NFFT,noverlap = noverlap,nperseg=nperseg)\n",
    "\n",
    "    freqs, t,spectrum_LL3 = signal.spectrogram(data[:,feature_to_index['T3']]-data[:,feature_to_index['T5']],nfft=NFFT,noverlap = noverlap,nperseg=nperseg)\n",
    "\n",
    "    freqs, t,spectrum_LL4 = signal.spectrogram(data[:,feature_to_index['T5']]-data[:,feature_to_index['O1']],nfft=NFFT,noverlap = noverlap,nperseg=nperseg)\n",
    "\n",
    "\n",
    "    LL = (spectrum_LL1+ spectrum_LL2 +spectrum_LL3 + spectrum_LL4)/4\n",
    "\n",
    "    # LP Spec = ( spec(Fp1 - F3) + spec(F3 - C3) + spec(C3 - P3) + spec(P3 - O1) )/4\n",
    "    freqs, t,spectrum_LP1 = signal.spectrogram(data[:,feature_to_index['Fp1']]-data[:,feature_to_index['F3']],nfft=NFFT,noverlap = noverlap,nperseg=nperseg)\n",
    "\n",
    "    freqs, t,spectrum_LP2 = signal.spectrogram(data[:,feature_to_index['F3']]-data[:,feature_to_index['C3']],nfft=NFFT,noverlap = noverlap,nperseg=nperseg)\n",
    "\n",
    "    freqs, t,spectrum_LP3 = signal.spectrogram(data[:,feature_to_index['C3']]-data[:,feature_to_index['P3']],nfft=NFFT,noverlap = noverlap,nperseg=nperseg)\n",
    "\n",
    "    freqs, t,spectrum_LP4 = signal.spectrogram(data[:,feature_to_index['P3']]-data[:,feature_to_index['O1']],nfft=NFFT,noverlap = noverlap,nperseg=nperseg)\n",
    "\n",
    "\n",
    "    LP = (spectrum_LP1+ spectrum_LP2 +spectrum_LP3 + spectrum_LP4)/4\n",
    "\n",
    "    # RP Spec = ( spec(Fp2 - F4) + spec(F4 - C4) + spec(C4 - P4) + spec(P4 - O2) )/4\n",
    "    freqs, t,spectrum_RP1 = signal.spectrogram(data[:,feature_to_index['Fp2']]-data[:,feature_to_index['F4']],nfft=NFFT,noverlap = noverlap,nperseg=nperseg)\n",
    "\n",
    "    freqs, t,spectrum_RP2 = signal.spectrogram(data[:,feature_to_index['F4']]-data[:,feature_to_index['C4']],nfft=NFFT,noverlap = noverlap,nperseg=nperseg)\n",
    "\n",
    "    freqs, t,spectrum_RP3 = signal.spectrogram(data[:,feature_to_index['C4']]-data[:,feature_to_index['P4']],nfft=NFFT,noverlap = noverlap,nperseg=nperseg)\n",
    "\n",
    "    freqs, t,spectrum_RP4 = signal.spectrogram(data[:,feature_to_index['P4']]-data[:,feature_to_index['O2']],nfft=NFFT,noverlap = noverlap,nperseg=nperseg)\n",
    "\n",
    "\n",
    "    RP = (spectrum_RP1+ spectrum_RP2 +spectrum_RP3 + spectrum_RP4)/4\n",
    "\n",
    "    # RL Spec = ( spec(Fp2 - F8) + spec(F8 - T4) + spec(T4 - T6) + spec(T6 - O2) )/4\n",
    "    freqs, t,spectrum_RL1 = signal.spectrogram(data[:,feature_to_index['Fp2']]-data[:,feature_to_index['F8']],nfft=NFFT,noverlap = noverlap,nperseg=nperseg)\n",
    "\n",
    "    freqs, t,spectrum_RL2 = signal.spectrogram(data[:,feature_to_index['F8']]-data[:,feature_to_index['T4']],nfft=NFFT,noverlap = noverlap,nperseg=nperseg)\n",
    "\n",
    "    freqs, t,spectrum_RL3 = signal.spectrogram(data[:,feature_to_index['T4']]-data[:,feature_to_index['T6']],nfft=NFFT,noverlap = noverlap,nperseg=nperseg)\n",
    "\n",
    "    freqs, t,spectrum_RL4 = signal.spectrogram(data[:,feature_to_index['T6']]-data[:,feature_to_index['O2']],nfft=NFFT,noverlap = noverlap,nperseg=nperseg)\n",
    "\n",
    "    RL = (spectrum_RL1+ spectrum_RL2 +spectrum_RL3 + spectrum_RL4)/4\n",
    "    spectogram = np.concatenate((LL, LP,RP,RL), axis=0)\n",
    "    return spectogram\n",
    "\n",
    "\n",
    "label_to_num = {'Seizure': 0, 'LPD': 1, 'GPD': 2, 'LRDA': 3, 'GRDA': 4, 'Other':5}\n",
    "num_to_label = {v: k for k, v in label_to_num.items()}\n",
    "seed_everything(config.SEED)"
   ]
  },
  {
   "cell_type": "code",
   "execution_count": 5,
   "id": "e1018c5f",
   "metadata": {
    "execution": {
     "iopub.execute_input": "2024-04-01T01:55:38.546431Z",
     "iopub.status.busy": "2024-04-01T01:55:38.546089Z",
     "iopub.status.idle": "2024-04-01T01:55:38.556744Z",
     "shell.execute_reply": "2024-04-01T01:55:38.555993Z"
    },
    "papermill": {
     "duration": 0.079415,
     "end_time": "2024-04-01T01:55:38.558676",
     "exception": false,
     "start_time": "2024-04-01T01:55:38.479261",
     "status": "completed"
    },
    "tags": []
   },
   "outputs": [],
   "source": [
    "def eeg_from_parquet(parquet_path: str) -> np.ndarray:\n",
    "    \"\"\"\n",
    "    This function reads a parquet file and extracts the middle 50 seconds of readings. Then it fills NaN values\n",
    "    with the mean value (ignoring NaNs).\n",
    "    :param parquet_path: path to parquet file.\n",
    "    :param display: whether to display EEG plots or not.\n",
    "    :return data: np.array of shape  (time_steps, eeg_features) -> (10_000, 8)\n",
    "    \"\"\"\n",
    "    # === Extract middle 50 seconds ===\n",
    "    eeg = pd.read_parquet(parquet_path, columns=eeg_features)\n",
    "    rows = len(eeg)\n",
    "    offset = (rows - 10_000) // 2 # 50 * 200 = 10_000\n",
    "    eeg = eeg.iloc[offset:offset+10_000] # middle 50 seconds, has the same amount of readings to left and right\n",
    "    # === Convert to numpy ===\n",
    "    data = np.zeros((10_000, len(eeg_features))) # create placeholder of same shape with zeros\n",
    "    for index, feature in enumerate(eeg_features):\n",
    "        x = eeg[feature].values.astype('float32') # convert to float32\n",
    "        mean = np.nanmean(x) # arithmetic mean along the specified axis, ignoring NaNs\n",
    "        nan_percentage = np.isnan(x).mean() # percentage of NaN values in feature\n",
    "        # === Fill nan values ===\n",
    "        if nan_percentage < 1: # if some values are nan, but not all\n",
    "            x = np.nan_to_num(x, nan=mean)\n",
    "        else: # if all values are nan\n",
    "            x[:] = 0\n",
    "        data[:, index] = x\n",
    "   \n",
    "    return data\n",
    "\n",
    "\n",
    "def seed_everything(seed: int):\n",
    "    random.seed(seed)\n",
    "    np.random.seed(seed)\n",
    "    torch.manual_seed(seed)\n",
    "    os.environ['PYTHONHASHSEED'] = str(seed) \n",
    "    \n",
    "    \n",
    "def sep():\n",
    "    print(\"-\"*100)\n",
    "\n",
    "    \n",
    "target_preds = [x + \"_pred\" for x in ['seizure_vote', 'lpd_vote', 'gpd_vote', 'lrda_vote', 'grda_vote', 'other_vote']]\n",
    "label_to_num = {'Seizure': 0, 'LPD': 1, 'GPD': 2, 'LRDA': 3, 'GRDA': 4, 'Other':5}\n",
    "num_to_label = {v: k for k, v in label_to_num.items()}\n",
    "seed_everything(config.SEED)"
   ]
  },
  {
   "cell_type": "markdown",
   "id": "a0cc097d",
   "metadata": {
    "papermill": {
     "duration": 0.016315,
     "end_time": "2024-04-01T01:55:38.590890",
     "exception": false,
     "start_time": "2024-04-01T01:55:38.574575",
     "status": "completed"
    },
    "tags": []
   },
   "source": [
    "# <b><span style='color:#F1A424'>|</span> Load Data</b><a class='anchor' id='load_data'></a> [↑](#top) \n",
    "\n",
    "***\n",
    "\n",
    "Load the competition's data."
   ]
  },
  {
   "cell_type": "code",
   "execution_count": 6,
   "id": "18d0a388",
   "metadata": {
    "_cell_guid": "b1076dfc-b9ad-4769-8c92-a6c4dae69d19",
    "_uuid": "8f2839f25d086af736a60e9eeb907d3b93b6e0e5",
    "execution": {
     "iopub.execute_input": "2024-04-01T01:55:38.624254Z",
     "iopub.status.busy": "2024-04-01T01:55:38.623873Z",
     "iopub.status.idle": "2024-04-01T01:55:38.651198Z",
     "shell.execute_reply": "2024-04-01T01:55:38.650289Z"
    },
    "papermill": {
     "duration": 0.046128,
     "end_time": "2024-04-01T01:55:38.653172",
     "exception": false,
     "start_time": "2024-04-01T01:55:38.607044",
     "status": "completed"
    },
    "tags": []
   },
   "outputs": [
    {
     "name": "stdout",
     "output_type": "stream",
     "text": [
      "Test dataframe shape is: (1, 3)\n"
     ]
    },
    {
     "data": {
      "text/html": [
       "<div>\n",
       "<style scoped>\n",
       "    .dataframe tbody tr th:only-of-type {\n",
       "        vertical-align: middle;\n",
       "    }\n",
       "\n",
       "    .dataframe tbody tr th {\n",
       "        vertical-align: top;\n",
       "    }\n",
       "\n",
       "    .dataframe thead th {\n",
       "        text-align: right;\n",
       "    }\n",
       "</style>\n",
       "<table border=\"1\" class=\"dataframe\">\n",
       "  <thead>\n",
       "    <tr style=\"text-align: right;\">\n",
       "      <th></th>\n",
       "      <th>spectrogram_id</th>\n",
       "      <th>eeg_id</th>\n",
       "      <th>patient_id</th>\n",
       "    </tr>\n",
       "  </thead>\n",
       "  <tbody>\n",
       "    <tr>\n",
       "      <th>0</th>\n",
       "      <td>853520</td>\n",
       "      <td>3911565283</td>\n",
       "      <td>6885</td>\n",
       "    </tr>\n",
       "  </tbody>\n",
       "</table>\n",
       "</div>"
      ],
      "text/plain": [
       "   spectrogram_id      eeg_id  patient_id\n",
       "0          853520  3911565283        6885"
      ]
     },
     "execution_count": 6,
     "metadata": {},
     "output_type": "execute_result"
    }
   ],
   "source": [
    "test_df = pd.read_csv(paths.TEST_CSV)\n",
    "print(f\"Test dataframe shape is: {test_df.shape}\")\n",
    "test_df.head()"
   ]
  },
  {
   "cell_type": "code",
   "execution_count": 7,
   "id": "2a834906",
   "metadata": {
    "execution": {
     "iopub.execute_input": "2024-04-01T01:55:38.687047Z",
     "iopub.status.busy": "2024-04-01T01:55:38.686752Z",
     "iopub.status.idle": "2024-04-01T01:55:38.864951Z",
     "shell.execute_reply": "2024-04-01T01:55:38.864008Z"
    },
    "papermill": {
     "duration": 0.197877,
     "end_time": "2024-04-01T01:55:38.867543",
     "exception": false,
     "start_time": "2024-04-01T01:55:38.669666",
     "status": "completed"
    },
    "tags": []
   },
   "outputs": [
    {
     "name": "stdout",
     "output_type": "stream",
     "text": [
      "There are 20 raw eeg features\n",
      "['Fp1', 'F3', 'C3', 'P3', 'F7', 'T3', 'T5', 'O1', 'Fz', 'Cz', 'Pz', 'Fp2', 'F4', 'C4', 'P4', 'F8', 'T4', 'T6', 'O2', 'EKG']\n"
     ]
    }
   ],
   "source": [
    "eeg_parquet_paths = glob(paths.TEST_EEGS + \"*.parquet\")\n",
    "eeg_df = pd.read_parquet(eeg_parquet_paths[0])\n",
    "eeg_features = eeg_df.columns\n",
    "print(f'There are {len(eeg_features)} raw eeg features')\n",
    "print(list(eeg_features))\n",
    "# eeg_features = ['Fp1','T3','C3','O1','Fp2','C4','T4','O2']\n",
    "feature_to_index = {x:y for x,y in zip(eeg_features, range(len(eeg_features)))}"
   ]
  },
  {
   "cell_type": "code",
   "execution_count": 8,
   "id": "e22a16a1",
   "metadata": {
    "execution": {
     "iopub.execute_input": "2024-04-01T01:55:38.902671Z",
     "iopub.status.busy": "2024-04-01T01:55:38.902309Z",
     "iopub.status.idle": "2024-04-01T01:55:38.926614Z",
     "shell.execute_reply": "2024-04-01T01:55:38.925503Z"
    },
    "papermill": {
     "duration": 0.044584,
     "end_time": "2024-04-01T01:55:38.929148",
     "exception": false,
     "start_time": "2024-04-01T01:55:38.884564",
     "status": "completed"
    },
    "tags": []
   },
   "outputs": [
    {
     "name": "stderr",
     "output_type": "stream",
     "text": [
      "1it [00:00, 72.73it/s]"
     ]
    },
    {
     "name": "stdout",
     "output_type": "stream",
     "text": [
      "CPU times: user 21.4 ms, sys: 1.06 ms, total: 22.5 ms\n",
      "Wall time: 18 ms\n"
     ]
    },
    {
     "name": "stderr",
     "output_type": "stream",
     "text": [
      "\n"
     ]
    }
   ],
   "source": [
    "%%time\n",
    "\n",
    "CREATE_EEGS = False\n",
    "all_eegs = {}\n",
    "visualize = 1\n",
    "eeg_paths = glob(paths.TEST_EEGS + \"*.parquet\")\n",
    "eeg_ids = test_df.eeg_id.unique()\n",
    "\n",
    "for i, eeg_id in tqdm(enumerate(eeg_ids)):  \n",
    "    # Save EEG to Python dictionary of numpy arrays\n",
    "    eeg_path = paths.TEST_EEGS + str(eeg_id) + \".parquet\"\n",
    "    data = eeg_from_parquet(eeg_path)              \n",
    "    all_eegs[eeg_id] = data"
   ]
  },
  {
   "cell_type": "markdown",
   "id": "68182839",
   "metadata": {
    "papermill": {
     "duration": 0.016863,
     "end_time": "2024-04-01T01:55:38.963037",
     "exception": false,
     "start_time": "2024-04-01T01:55:38.946174",
     "status": "completed"
    },
    "tags": []
   },
   "source": [
    "### <b><span style='color:#F1A424'>Read Spectrograms</span></b>"
   ]
  },
  {
   "cell_type": "code",
   "execution_count": 9,
   "id": "2152a10b",
   "metadata": {
    "execution": {
     "iopub.execute_input": "2024-04-01T01:55:38.998483Z",
     "iopub.status.busy": "2024-04-01T01:55:38.997828Z",
     "iopub.status.idle": "2024-04-01T01:55:39.055099Z",
     "shell.execute_reply": "2024-04-01T01:55:39.054024Z"
    },
    "papermill": {
     "duration": 0.07733,
     "end_time": "2024-04-01T01:55:39.057240",
     "exception": false,
     "start_time": "2024-04-01T01:55:38.979910",
     "status": "completed"
    },
    "tags": []
   },
   "outputs": [
    {
     "name": "stdout",
     "output_type": "stream",
     "text": [
      "There are 1 spectrogram parquets\n"
     ]
    },
    {
     "name": "stderr",
     "output_type": "stream",
     "text": [
      "100%|██████████| 1/1 [00:00<00:00, 22.41it/s]"
     ]
    },
    {
     "name": "stdout",
     "output_type": "stream",
     "text": [
      "CPU times: user 42.3 ms, sys: 3.09 ms, total: 45.4 ms\n",
      "Wall time: 49.8 ms\n"
     ]
    },
    {
     "name": "stderr",
     "output_type": "stream",
     "text": [
      "\n"
     ]
    }
   ],
   "source": [
    "%%time\n",
    "\n",
    "paths_spectrograms = glob(paths.TEST_SPECTROGRAMS + \"*.parquet\")\n",
    "print(f'There are {len(paths_spectrograms)} spectrogram parquets')\n",
    "all_spectrograms = {}\n",
    "\n",
    "for file_path in tqdm(paths_spectrograms):\n",
    "    aux = pd.read_parquet(file_path)\n",
    "    name = int(file_path.split(\"/\")[-1].split('.')[0])\n",
    "    all_spectrograms[name] = aux.iloc[:,1:].values\n",
    "    del aux\n",
    "    \n",
    "if config.VISUALIZE:\n",
    "    idx = np.random.randint(0, len(paths_spectrograms))\n",
    "    spectrogram_path = paths_spectrograms[idx]\n",
    "    plot_spectrogram(spectrogram_path)"
   ]
  },
  {
   "cell_type": "markdown",
   "id": "027898bb",
   "metadata": {
    "papermill": {
     "duration": 0.016652,
     "end_time": "2024-04-01T01:55:39.091406",
     "exception": false,
     "start_time": "2024-04-01T01:55:39.074754",
     "status": "completed"
    },
    "tags": []
   },
   "source": [
    "### <b><span style='color:#F1A424'>Read EEG Spectrograms</span></b>\n",
    "\n",
    "The resulting `all_eegs` dictionary contains `eeg_id` as keys (`int` keys) and the values are the eeg sequences (as 3-dimensional `np.array`) of shape `(128, 256, 4)`.\n",
    "\n"
   ]
  },
  {
   "cell_type": "code",
   "execution_count": 10,
   "id": "a2c2781e",
   "metadata": {
    "execution": {
     "iopub.execute_input": "2024-04-01T01:55:39.127423Z",
     "iopub.status.busy": "2024-04-01T01:55:39.126644Z",
     "iopub.status.idle": "2024-04-01T01:55:49.772286Z",
     "shell.execute_reply": "2024-04-01T01:55:49.771255Z"
    },
    "papermill": {
     "duration": 10.668023,
     "end_time": "2024-04-01T01:55:49.776410",
     "exception": false,
     "start_time": "2024-04-01T01:55:39.108387",
     "status": "completed"
    },
    "tags": []
   },
   "outputs": [
    {
     "name": "stdout",
     "output_type": "stream",
     "text": [
      "There are 1 EEG spectrograms\n"
     ]
    },
    {
     "name": "stderr",
     "output_type": "stream",
     "text": [
      "  0%|          | 0/1 [00:00<?, ?it/s]"
     ]
    },
    {
     "data": {
      "image/png": "[encoded data removed]",
      "text/plain": [
       "<Figure size 1000x700 with 4 Axes>"
      ]
     },
     "metadata": {},
     "output_type": "display_data"
    },
    {
     "data": {
      "image/png": "[encoded data removed]",
      "text/plain": [
       "<Figure size 1000x500 with 1 Axes>"
      ]
     },
     "metadata": {},
     "output_type": "display_data"
    },
    {
     "name": "stderr",
     "output_type": "stream",
     "text": [
      "100%|██████████| 1/1 [00:10<00:00, 10.64s/it]"
     ]
    },
    {
     "name": "stdout",
     "output_type": "stream",
     "text": [
      "\n",
      "#########################\n",
      "\n",
      "CPU times: user 10.7 s, sys: 1.28 s, total: 12 s\n",
      "Wall time: 10.6 s\n"
     ]
    },
    {
     "name": "stderr",
     "output_type": "stream",
     "text": [
      "\n"
     ]
    }
   ],
   "source": [
    "%%time\n",
    "\n",
    "paths_eegs = glob(paths.TEST_EEGS + \"*.parquet\")\n",
    "print(f'There are {len(paths_eegs)} EEG spectrograms')\n",
    "all_eegs_specs = {}\n",
    "counter = 0\n",
    "\n",
    "for file_path in tqdm(paths_eegs):\n",
    "    eeg_id = file_path.split(\"/\")[-1].split(\".\")[0]\n",
    "    eeg_spectrogram = spectrogram_from_eeg(file_path, counter < 1)\n",
    "    all_eegs_specs[int(eeg_id)] = eeg_spectrogram\n",
    "    counter += 1"
   ]
  },
  {
   "cell_type": "code",
   "execution_count": 11,
   "id": "a5046070",
   "metadata": {
    "execution": {
     "iopub.execute_input": "2024-04-01T01:55:49.832790Z",
     "iopub.status.busy": "2024-04-01T01:55:49.831707Z",
     "iopub.status.idle": "2024-04-01T01:56:13.600424Z",
     "shell.execute_reply": "2024-04-01T01:56:13.599624Z"
    },
    "papermill": {
     "duration": 23.800053,
     "end_time": "2024-04-01T01:56:13.603631",
     "exception": false,
     "start_time": "2024-04-01T01:55:49.803578",
     "status": "completed"
    },
    "tags": []
   },
   "outputs": [
    {
     "name": "stdout",
     "output_type": "stream",
     "text": [
      "CPU times: user 23.5 s, sys: 1.79 s, total: 25.3 s\n",
      "Wall time: 23.8 s\n"
     ]
    }
   ],
   "source": [
    "%%time\n",
    "\n",
    "all_eegs_512_spec = {}\n",
    "\n",
    "for i in range(len(test_df)):\n",
    "    row = test_df.iloc[i]\n",
    "    eeg_id = row['eeg_id']\n",
    "    eeg_data = pd.read_parquet(paths.TEST_EEGS + f'{eeg_id}.parquet')\n",
    "    all_eegs_512_spec[str(eeg_id)] = create_512_spec(eeg_data, eeg_id, row['spectrogram_id'])"
   ]
  },
  {
   "cell_type": "code",
   "execution_count": 12,
   "id": "868b8214",
   "metadata": {
    "execution": {
     "iopub.execute_input": "2024-04-01T01:56:13.660654Z",
     "iopub.status.busy": "2024-04-01T01:56:13.660040Z",
     "iopub.status.idle": "2024-04-01T01:56:13.664211Z",
     "shell.execute_reply": "2024-04-01T01:56:13.663375Z"
    },
    "papermill": {
     "duration": 0.03427,
     "end_time": "2024-04-01T01:56:13.666253",
     "exception": false,
     "start_time": "2024-04-01T01:56:13.631983",
     "status": "completed"
    },
    "tags": []
   },
   "outputs": [],
   "source": [
    "# plt.figure(figsize=(10, 10))\n",
    "# plt.imshow(all_eegs_512_spec['3911565283'], cmap='jet')\n",
    "# plt.axis('off')\n",
    "# plt.show()"
   ]
  },
  {
   "cell_type": "code",
   "execution_count": 13,
   "id": "0f65f056",
   "metadata": {
    "execution": {
     "iopub.execute_input": "2024-04-01T01:56:13.722361Z",
     "iopub.status.busy": "2024-04-01T01:56:13.721557Z",
     "iopub.status.idle": "2024-04-01T01:56:13.726056Z",
     "shell.execute_reply": "2024-04-01T01:56:13.724997Z"
    },
    "papermill": {
     "duration": 0.034891,
     "end_time": "2024-04-01T01:56:13.728079",
     "exception": false,
     "start_time": "2024-04-01T01:56:13.693188",
     "status": "completed"
    },
    "tags": []
   },
   "outputs": [],
   "source": [
    "# unique\n",
    "data_mean = 0.00011579196009429602\n",
    "data_std = 4.5827806440634316"
   ]
  },
  {
   "cell_type": "markdown",
   "id": "d4b2ebef",
   "metadata": {
    "papermill": {
     "duration": 0.026391,
     "end_time": "2024-04-01T01:56:13.781541",
     "exception": false,
     "start_time": "2024-04-01T01:56:13.755150",
     "status": "completed"
    },
    "tags": []
   },
   "source": [
    "# <b><span style='color:#F1A424'>|</span> Dataset</b><a class='anchor' id='dataset'></a> [↑](#top) \n",
    "\n",
    "***\n",
    "\n",
    "Create a custom `Dataset` to load data.\n",
    "\n",
    "This dataloader outputs 4 spectrogram images as a 4 channel image of size 128x256x4 per train sample. This notebook version is not using data augmention but the code is available below to experiment with `albumentations` data augmention. Just add `augment = True` when creating the train data loader. And consider adding new transformations to the augment function below.\n",
    "\n",
    "A more detailed [explanation][1] of the `r` parameter inside the `__data_generation()` method.\n",
    "\n",
    "Our dataloader outputs both Kaggle spectrograms and EEG spectrogams as 8 channel image of size `(128, 256, 8)`\n",
    "\n",
    "[1]: https://www.kaggle.com/code/cdeotte/efficientnetb0-starter-lb-0-43/comments#2617811"
   ]
  },
  {
   "cell_type": "code",
   "execution_count": 14,
   "id": "99f7525b",
   "metadata": {
    "execution": {
     "iopub.execute_input": "2024-04-01T01:56:13.836345Z",
     "iopub.status.busy": "2024-04-01T01:56:13.835495Z",
     "iopub.status.idle": "2024-04-01T01:56:13.841425Z",
     "shell.execute_reply": "2024-04-01T01:56:13.840467Z"
    },
    "papermill": {
     "duration": 0.03533,
     "end_time": "2024-04-01T01:56:13.843367",
     "exception": false,
     "start_time": "2024-04-01T01:56:13.808037",
     "status": "completed"
    },
    "tags": []
   },
   "outputs": [],
   "source": [
    "from scipy.signal import butter, lfilter\n",
    "\n",
    "def butter_lowpass_filter(data, cutoff_freq: int = 20, sampling_rate: int = 200, order: int = 4):\n",
    "    nyquist = 0.5 * sampling_rate\n",
    "    normal_cutoff = cutoff_freq / nyquist\n",
    "    b, a = butter(order, normal_cutoff, btype='low', analog=False)\n",
    "    filtered_data = lfilter(b, a, data, axis=0)\n",
    "    return filtered_data"
   ]
  },
  {
   "cell_type": "code",
   "execution_count": 15,
   "id": "85aadf28",
   "metadata": {
    "execution": {
     "iopub.execute_input": "2024-04-01T01:56:13.898467Z",
     "iopub.status.busy": "2024-04-01T01:56:13.898127Z",
     "iopub.status.idle": "2024-04-01T01:56:13.919456Z",
     "shell.execute_reply": "2024-04-01T01:56:13.918516Z"
    },
    "papermill": {
     "duration": 0.051096,
     "end_time": "2024-04-01T01:56:13.921391",
     "exception": false,
     "start_time": "2024-04-01T01:56:13.870295",
     "status": "completed"
    },
    "tags": []
   },
   "outputs": [],
   "source": [
    "class CustomDataset(Dataset):\n",
    "    def __init__(\n",
    "        self, df, config, mode='train', specs=all_spectrograms, eeg_specs=all_eegs_specs, downsample=5, augment=config.augment, data_mean=data_mean, data_std=data_std\n",
    "    ): \n",
    "        self.df = df\n",
    "        self.config = config\n",
    "        self.mode = mode\n",
    "        self.spectrograms = specs\n",
    "        self.eeg_spectrograms = eeg_specs\n",
    "        self.downsample = downsample\n",
    "        self.augment = augment\n",
    "        self.USE_KAGGLE_SPECTROGRAMS = True\n",
    "        self.USE_EEG_SPECTROGRAMS = True\n",
    "        self.all_eegs_512_spec = all_eegs_512_spec\n",
    "        self.data_mean = data_mean\n",
    "        self.data_std = data_std\n",
    "        \n",
    "    def __len__(self):\n",
    "        \"\"\"\n",
    "        Length of dataset.\n",
    "        \"\"\"\n",
    "        return len(self.df)\n",
    "        \n",
    "    def __getitem__(self, index):\n",
    "        \"\"\"\n",
    "        Get one item.\n",
    "        \"\"\"\n",
    "        X1, X2, y = self.__data_generation(index)\n",
    "        \n",
    "        output = {\n",
    "            \"X1\": torch.tensor(X1, dtype=torch.float32),\n",
    "            \"X2\": torch.tensor(X2, dtype=torch.float32),\n",
    "            \"y\": torch.tensor(y, dtype=torch.float32)\n",
    "        }\n",
    "        return output\n",
    "    \n",
    "    def get_datasetwidenorm(self, eeg_id):\n",
    "        \"\"\"This function will get the batch and preprocess it.\"\"\"\n",
    "        # Set a small epsilon to avoid division by zero\n",
    "        eps = 1e-6\n",
    "\n",
    "        # Read data from parquet file\n",
    "        data = all_eegs[eeg_id]\n",
    "        data = create_spectrogram(data)\n",
    "\n",
    "        # Fill missing values with the specified constant\n",
    "        mask = np.isnan(data)\n",
    "        data[mask] = -1\n",
    "\n",
    "        # Clip values and apply logarithmic transformation\n",
    "        data = np.clip(data, np.exp(-6), np.exp(10))\n",
    "        data = np.log(data)\n",
    "\n",
    "        # Normalize the data\n",
    "        data = (data - self.data_mean) / (self.data_std + eps)\n",
    "\n",
    "        # Convert data to a PyTorch tensor and apply transformations\n",
    "        data_tensor = torch.unsqueeze(torch.Tensor(data), dim=0)\n",
    "        data = config.image_transform(data_tensor)\n",
    "\n",
    "        # Return the batch data\n",
    "        return data.numpy()\n",
    "                        \n",
    "    def __data_generation(self, index):\n",
    "        row = self.df.iloc[index]\n",
    "        \n",
    "        X1, X2 = self.__spec_data_gen(row)\n",
    "        \n",
    "        y = np.zeros(6, dtype='float32')\n",
    "        if self.mode != 'test':\n",
    "            y = row[label_cols].values.astype(np.float32)\n",
    "            \n",
    "        return X1, X2, y\n",
    "        \n",
    " \n",
    "    def __spec_data_gen(self, row):\n",
    "        \"\"\"\n",
    "        Generates spec data containing batch_size samples.\n",
    "        \"\"\"\n",
    "#         X = np.zeros((128, 256, 8), dtype='float32')\n",
    "#         img = np.ones((128,256), dtype='float32')\n",
    "#         if self.mode=='test': \n",
    "#             r = 0\n",
    "#         else: \n",
    "#             r = int((row['min'] + row['max']) // 4)\n",
    "#         # r = int(row['spectrogram_label_offset_seconds'] // 2)\n",
    "\n",
    "#         for region in range(4):\n",
    "#             img = self.spectrograms[row.spectrogram_id][r:r+300, region*100:(region+1)*100].T\n",
    "\n",
    "#             # Log transform spectogram\n",
    "#             img = np.clip(img, np.exp(-4), np.exp(8))\n",
    "#             img = np.log(img)\n",
    "\n",
    "#             # Standarize per image\n",
    "#             ep = 1e-6\n",
    "#             mu = np.nanmean(img.flatten())\n",
    "#             std = np.nanstd(img.flatten())\n",
    "#             img = (img-mu)/(std+ep)\n",
    "#             img = np.nan_to_num(img, nan=0.0)\n",
    "#             X[14:-14, :, region] = img[:, 22:-22] / 2.0\n",
    "#             img = self.eeg_spectrograms[row.eeg_id]\n",
    "#             X[:, :, 4:] = img\n",
    "            \n",
    "#         # === Get spectrograms ===\n",
    "#         spectrograms = np.concatenate([X[:, :, i:i+1] for i in range(4)], axis=0)\n",
    "\n",
    "#         # === Get EEG spectrograms ===\n",
    "#         eegs = np.concatenate([X[:, :, i:i+1] for i in range(4, 8)], axis=0)\n",
    "        \n",
    "#         X = np.concatenate([spectrograms, eegs], axis=1) #[512, 512, 1]\n",
    "#         X = np.transpose(X, (2, 0, 1))\n",
    "#         X = np.tile(X, (3, 1, 1))\n",
    "            \n",
    "        spec = self.all_eegs_512_spec[str(row['eeg_id'])]\n",
    "        spec = spec[np.newaxis, :, :]\n",
    "        spec = np.tile(spec, (3, 1, 1))\n",
    "        \n",
    "        new_norm = self.get_datasetwidenorm(row['eeg_id'])\n",
    "        new_norm = np.tile(new_norm, (3, 1, 1))\n",
    "        \n",
    "        return spec, new_norm"
   ]
  },
  {
   "cell_type": "markdown",
   "id": "b6605f50",
   "metadata": {
    "papermill": {
     "duration": 0.027109,
     "end_time": "2024-04-01T01:56:13.976476",
     "exception": false,
     "start_time": "2024-04-01T01:56:13.949367",
     "status": "completed"
    },
    "tags": []
   },
   "source": [
    "# <b><span style='color:#F1A424'>|</span> DataLoader</b><a class='anchor' id='dataloader'></a> [↑](#top) \n",
    "\n",
    "***\n",
    "\n",
    "Below we display example dataloader spectrogram images."
   ]
  },
  {
   "cell_type": "code",
   "execution_count": 16,
   "id": "afb1407c",
   "metadata": {
    "execution": {
     "iopub.execute_input": "2024-04-01T01:56:14.032418Z",
     "iopub.status.busy": "2024-04-01T01:56:14.032049Z",
     "iopub.status.idle": "2024-04-01T01:56:14.132161Z",
     "shell.execute_reply": "2024-04-01T01:56:14.131213Z"
    },
    "papermill": {
     "duration": 0.130605,
     "end_time": "2024-04-01T01:56:14.134649",
     "exception": false,
     "start_time": "2024-04-01T01:56:14.004044",
     "status": "completed"
    },
    "tags": []
   },
   "outputs": [
    {
     "name": "stdout",
     "output_type": "stream",
     "text": [
      "X1 shape: torch.Size([3, 512, 512])\n",
      "X2 shape: torch.Size([3, 512, 512])\n",
      "y shape: torch.Size([6])\n"
     ]
    },
    {
     "name": "stderr",
     "output_type": "stream",
     "text": [
      "/opt/conda/lib/python3.10/site-packages/torchvision/transforms/functional.py:1603: UserWarning: The default value of the antialias parameter of all the resizing transforms (Resize(), RandomResizedCrop(), etc.) will change from None to True in v0.17, in order to be consistent across the PIL and Tensor backends. To suppress this warning, directly pass antialias=True (recommended, future default), antialias=None (current default, which means False for Tensors and True for PIL), or antialias=False (only works on Tensors - PIL will still use antialiasing). This also applies if you are using the inference transforms from the models weights: update the call to weights.transforms(antialias=True).\n",
      "  warnings.warn(\n"
     ]
    }
   ],
   "source": [
    "test_dataset = CustomDataset(test_df, config, mode=\"test\")\n",
    "test_loader = DataLoader(\n",
    "    test_dataset,\n",
    "    batch_size=1,\n",
    "    shuffle=False,\n",
    "    num_workers=config.NUM_WORKERS, pin_memory=True, drop_last=False\n",
    ")\n",
    "output = test_dataset[0]\n",
    "X1, X2, y = output[\"X1\"], output[\"X2\"], output[\"y\"]\n",
    "\n",
    "print(f\"X1 shape: {X1.shape}\")\n",
    "print(f\"X2 shape: {X2.shape}\")\n",
    "print(f\"y shape: {y.shape}\")"
   ]
  },
  {
   "cell_type": "markdown",
   "id": "1e119599",
   "metadata": {
    "papermill": {
     "duration": 0.027056,
     "end_time": "2024-04-01T01:56:14.190948",
     "exception": false,
     "start_time": "2024-04-01T01:56:14.163892",
     "status": "completed"
    },
    "tags": []
   },
   "source": [
    "# <b><span style='color:#F1A424'>|</span> Model</b><a class='anchor' id='model'></a> [↑](#top) \n",
    "\n",
    "***\n",
    "\n",
    "We will be using the [timm](https://github.com/huggingface/pytorch-image-models) library for our models.\n",
    "\n",
    "Our models receives both Kaggle spectrograms and EEG spectrograms from our data loader. We then reshape these 8 spectrograms into 1 large flat image and feed it into EfficientNet."
   ]
  },
  {
   "cell_type": "code",
   "execution_count": 17,
   "id": "f7510fed",
   "metadata": {
    "_kg_hide-input": true,
    "execution": {
     "iopub.execute_input": "2024-04-01T01:56:14.247161Z",
     "iopub.status.busy": "2024-04-01T01:56:14.246775Z",
     "iopub.status.idle": "2024-04-01T01:56:14.260089Z",
     "shell.execute_reply": "2024-04-01T01:56:14.259183Z"
    },
    "papermill": {
     "duration": 0.043847,
     "end_time": "2024-04-01T01:56:14.261984",
     "exception": false,
     "start_time": "2024-04-01T01:56:14.218137",
     "status": "completed"
    },
    "tags": []
   },
   "outputs": [],
   "source": [
    "class iAFF(nn.Module):\n",
    "    '''\n",
    "    多特征融合 iAFF\n",
    "    '''\n",
    "\n",
    "    def __init__(self, channels=64, r=4):\n",
    "        super(iAFF, self).__init__()\n",
    "        inter_channels = int(channels // r)\n",
    "\n",
    "        # 局部注意力\n",
    "        self.local_att = nn.Sequential(\n",
    "            nn.Conv2d(channels, inter_channels, kernel_size=1, stride=1, padding=0),\n",
    "            nn.BatchNorm2d(inter_channels),\n",
    "            nn.ReLU(inplace=True),\n",
    "            nn.Conv2d(inter_channels, channels, kernel_size=1, stride=1, padding=0),\n",
    "            nn.BatchNorm2d(channels),\n",
    "        )\n",
    "\n",
    "        # 全局注意力\n",
    "        self.global_att = nn.Sequential(\n",
    "            nn.AdaptiveAvgPool2d(1),\n",
    "            nn.Conv2d(channels, inter_channels, kernel_size=1, stride=1, padding=0),\n",
    "            nn.BatchNorm2d(inter_channels),\n",
    "            nn.ReLU(inplace=True),\n",
    "            nn.Conv2d(inter_channels, channels, kernel_size=1, stride=1, padding=0),\n",
    "            nn.BatchNorm2d(channels),\n",
    "        )\n",
    "\n",
    "        # 第二次局部注意力\n",
    "        self.local_att2 = nn.Sequential(\n",
    "            nn.Conv2d(channels, inter_channels, kernel_size=1, stride=1, padding=0),\n",
    "            nn.BatchNorm2d(inter_channels),\n",
    "            nn.ReLU(inplace=True),\n",
    "            nn.Conv2d(inter_channels, channels, kernel_size=1, stride=1, padding=0),\n",
    "            nn.BatchNorm2d(channels),\n",
    "        )\n",
    "        # 第二次全局注意力\n",
    "        self.global_att2 = nn.Sequential(\n",
    "            nn.AdaptiveAvgPool2d(1),\n",
    "            nn.Conv2d(channels, inter_channels, kernel_size=1, stride=1, padding=0),\n",
    "            nn.BatchNorm2d(inter_channels),\n",
    "            nn.ReLU(inplace=True),\n",
    "            nn.Conv2d(inter_channels, channels, kernel_size=1, stride=1, padding=0),\n",
    "            nn.BatchNorm2d(channels),\n",
    "        )\n",
    "\n",
    "        self.sigmoid = nn.Sigmoid()\n",
    "\n",
    "    def forward(self, x, residual):\n",
    "        xa = x + residual\n",
    "        xl = self.local_att(xa)\n",
    "        xg = self.global_att(xa)\n",
    "        xlg = xl + xg\n",
    "        wei = self.sigmoid(xlg)\n",
    "        xi = x * wei + residual * (1 - wei)\n",
    "\n",
    "        xl2 = self.local_att2(xi)\n",
    "        xg2 = self.global_att(xi)\n",
    "        xlg2 = xl2 + xg2\n",
    "        wei2 = self.sigmoid(xlg2)\n",
    "        xo = x * wei2 + residual * (1 - wei2)\n",
    "        return xo\n"
   ]
  },
  {
   "cell_type": "code",
   "execution_count": 18,
   "id": "e7649bbc",
   "metadata": {
    "execution": {
     "iopub.execute_input": "2024-04-01T01:56:14.317075Z",
     "iopub.status.busy": "2024-04-01T01:56:14.316272Z",
     "iopub.status.idle": "2024-04-01T01:56:14.333786Z",
     "shell.execute_reply": "2024-04-01T01:56:14.332941Z"
    },
    "papermill": {
     "duration": 0.047474,
     "end_time": "2024-04-01T01:56:14.336075",
     "exception": false,
     "start_time": "2024-04-01T01:56:14.288601",
     "status": "completed"
    },
    "tags": []
   },
   "outputs": [],
   "source": [
    "import timm\n",
    "\n",
    "class SpecNet(nn.Module):\n",
    "\n",
    "    def __init__(self, backbone_2d, num_classes=6):\n",
    "        super(SpecNet, self).__init__()\n",
    "\n",
    "        # 2D efficient\n",
    "        self.backbone_2d_eeg = timm.create_model(\n",
    "            config.backbone_2d,\n",
    "            pretrained=config.pretrained,\n",
    "            drop_rate = 0.1,\n",
    "            drop_path_rate = 0.1\n",
    "        \n",
    "        )\n",
    "        self.backbone_2d_spec = timm.create_model(\n",
    "            config.backbone_2d,\n",
    "            pretrained=config.pretrained,\n",
    "            drop_rate = 0.1,\n",
    "            drop_path_rate = 0.1\n",
    "        \n",
    "        )\n",
    "        self.features_2d_eeg = nn.Sequential(*list(self.backbone_2d_eeg.children())[:-2])\n",
    "        self.features_2d_spec = nn.Sequential(*list(self.backbone_2d_spec.children())[:-2])\n",
    "\n",
    "        # forward\n",
    "        self.iaaf = iAFF(channels=1280, r=32)\n",
    "        self.avg_pool_2d = nn.AdaptiveAvgPool2d(1)\n",
    "        self.flatten_2d = nn.Flatten()\n",
    "        self.fc1 = nn.Linear(in_features=self.backbone_2d_eeg.num_features, out_features=128)\n",
    "        self.fc2 = nn.Linear(in_features=128, out_features=num_classes)\n",
    "        \n",
    "        self.avg_pool_2d_eeg = nn.AdaptiveAvgPool2d(1)\n",
    "        self.flatten_2d_eeg = nn.Flatten()\n",
    "        self.fc1_eeg = nn.Linear(in_features=self.backbone_2d_eeg.num_features, out_features=128)\n",
    "        self.fc2_eeg = nn.Linear(in_features=128, out_features=num_classes)\n",
    "        \n",
    "        self.avg_pool_2d_spec = nn.AdaptiveAvgPool2d(1)\n",
    "        self.flatten_2d_spec = nn.Flatten()\n",
    "        self.fc1_spec = nn.Linear(in_features=self.backbone_2d_eeg.num_features, out_features=128)\n",
    "        self.fc2_spec = nn.Linear(in_features=128, out_features=num_classes)\n",
    "        \n",
    "        \n",
    "    def reshape_input(self, x):\n",
    "        \"\"\"\n",
    "        Reshapes input (128, 256, 8) -> 2*(3, 512, 256) monotone image.\n",
    "        \"\"\" \n",
    "        # === Get spectrograms ===\n",
    "        spectrograms = [x[:, :, :, i:i+1] for i in range(4)]\n",
    "        spectrograms = torch.cat(spectrograms, dim=1)\n",
    "        spectrograms = torch.cat([spectrograms,spectrograms,spectrograms], dim=3)\n",
    "        spectrograms = spectrograms.permute(0, 3, 1, 2)\n",
    "        \n",
    "        # === Get EEG spectrograms ===\n",
    "        eegs = [x[:, :, :, i:i+1] for i in range(4,8)]\n",
    "        eegs = torch.cat(eegs, dim=1)\n",
    "        eegs = torch.cat([eegs,eegs,eegs], dim=3)\n",
    "        eegs = eegs.permute(0, 3, 1, 2)\n",
    "        return spectrograms, eegs\n",
    "    \n",
    "\n",
    "    def forward(self, eeg, spec):\n",
    "        # spec, eeg = self.reshape_input(x)\n",
    "        spec_emb = self.features_2d_spec(spec) #[bs, 1280, 16, 16]\n",
    "        # print(spec_emb.shape)\n",
    "        eeg_emb = self.features_2d_eeg(eeg)\n",
    "        \n",
    "        res = self.iaaf(spec_emb, eeg_emb) #[bs, 1280, 16, 16]\n",
    "        res = self.avg_pool_2d(res)\n",
    "        res = self.flatten_2d(res)\n",
    "        res = self.fc1(res)\n",
    "        res = self.fc2(res)\n",
    "        \n",
    "        spec_emb = self.avg_pool_2d_spec(spec_emb)\n",
    "        spec_emb = self.flatten_2d_spec(spec_emb)\n",
    "        spec_emb = self.fc1_spec(spec_emb)\n",
    "        res_spec = self.fc2_spec(spec_emb)\n",
    "        \n",
    "        eeg_emb = self.avg_pool_2d_eeg(eeg_emb)\n",
    "        eeg_emb = self.flatten_2d_eeg(eeg_emb)\n",
    "        eeg_emb = self.fc1_eeg(eeg_emb)\n",
    "        res_eeg = self.fc2_eeg(eeg_emb)\n",
    "        \n",
    "        return res, res_eeg, res_spec, eeg_emb, spec_emb\n",
    "    "
   ]
  },
  {
   "cell_type": "code",
   "execution_count": 19,
   "id": "d54fb344",
   "metadata": {
    "execution": {
     "iopub.execute_input": "2024-04-01T01:56:14.391421Z",
     "iopub.status.busy": "2024-04-01T01:56:14.390821Z",
     "iopub.status.idle": "2024-04-01T01:56:14.622064Z",
     "shell.execute_reply": "2024-04-01T01:56:14.621116Z"
    },
    "papermill": {
     "duration": 0.261338,
     "end_time": "2024-04-01T01:56:14.624435",
     "exception": false,
     "start_time": "2024-04-01T01:56:14.363097",
     "status": "completed"
    },
    "tags": []
   },
   "outputs": [],
   "source": [
    "model = SpecNet(config.backbone_2d)"
   ]
  },
  {
   "cell_type": "markdown",
   "id": "b55c5b13",
   "metadata": {
    "papermill": {
     "duration": 0.026736,
     "end_time": "2024-04-01T01:56:14.678855",
     "exception": false,
     "start_time": "2024-04-01T01:56:14.652119",
     "status": "completed"
    },
    "tags": []
   },
   "source": [
    "# <b><span style='color:#F1A424'>|</span> Inference Function</b><a class='anchor' id='inference_function'></a> [↑](#top) \n",
    "\n",
    "***"
   ]
  },
  {
   "cell_type": "code",
   "execution_count": 20,
   "id": "96ffe242",
   "metadata": {
    "execution": {
     "iopub.execute_input": "2024-04-01T01:56:14.736258Z",
     "iopub.status.busy": "2024-04-01T01:56:14.735522Z",
     "iopub.status.idle": "2024-04-01T01:56:14.743296Z",
     "shell.execute_reply": "2024-04-01T01:56:14.742410Z"
    },
    "papermill": {
     "duration": 0.038688,
     "end_time": "2024-04-01T01:56:14.745248",
     "exception": false,
     "start_time": "2024-04-01T01:56:14.706560",
     "status": "completed"
    },
    "tags": []
   },
   "outputs": [],
   "source": [
    "def inference_function(test_loader, model, device):\n",
    "    model.eval()\n",
    "    softmax = nn.Softmax(dim=1)\n",
    "    prediction_dict = {}\n",
    "    preds = []\n",
    "    with tqdm(test_loader, unit=\"test_batch\", desc='Inference') as tqdm_test_loader:\n",
    "        for step, output in enumerate(tqdm_test_loader):\n",
    "            X1 = output['X1'].to(device)            \n",
    "            X2 = output['X2'].to(device)\n",
    "#             X_spec = X_spec.to(device)\n",
    "            with torch.no_grad():\n",
    "                res, res_eeg, res_spec, eeg_emb, spec_emb = model(X1, X2)\n",
    "#                 y_preds = res*0.362 + res_eeg*0.326 + res_spec*0.312\n",
    "\n",
    "                res = softmax(res)\n",
    "                res_eeg = softmax(res_eeg)\n",
    "                res_spec = softmax(res_spec)\n",
    "            \n",
    "                y_preds = res*0.359 + res_eeg*0.315 + res_spec*0.326\n",
    "            preds.append(y_preds.to('cpu').numpy()) \n",
    "                \n",
    "    prediction_dict[\"predictions\"] = np.concatenate(preds) \n",
    "    return prediction_dict"
   ]
  },
  {
   "cell_type": "markdown",
   "id": "2b0bc897",
   "metadata": {
    "papermill": {
     "duration": 0.026542,
     "end_time": "2024-04-01T01:56:14.798880",
     "exception": false,
     "start_time": "2024-04-01T01:56:14.772338",
     "status": "completed"
    },
    "tags": []
   },
   "source": [
    "# <b><span style='color:#F1A424'>|</span> Infer</b><a class='anchor' id='infer'></a> [↑](#top) \n",
    "\n",
    "***"
   ]
  },
  {
   "cell_type": "code",
   "execution_count": 21,
   "id": "b6bdca01",
   "metadata": {
    "execution": {
     "iopub.execute_input": "2024-04-01T01:56:14.853604Z",
     "iopub.status.busy": "2024-04-01T01:56:14.852682Z",
     "iopub.status.idle": "2024-04-01T01:56:22.217570Z",
     "shell.execute_reply": "2024-04-01T01:56:22.216488Z"
    },
    "papermill": {
     "duration": 7.394665,
     "end_time": "2024-04-01T01:56:22.219765",
     "exception": false,
     "start_time": "2024-04-01T01:56:14.825100",
     "status": "completed"
    },
    "tags": []
   },
   "outputs": [
    {
     "name": "stdout",
     "output_type": "stream",
     "text": [
      "/kaggle/input/2d-new/v17_newdata/wavenet_fold_0_s2_best.pth\n"
     ]
    },
    {
     "name": "stderr",
     "output_type": "stream",
     "text": [
      "Inference: 100%|██████████| 1/1 [00:00<00:00,  1.28test_batch/s]\n"
     ]
    },
    {
     "name": "stdout",
     "output_type": "stream",
     "text": [
      "/kaggle/input/2d-new/v17_newdata/wavenet_fold_1_s2_best.pth\n"
     ]
    },
    {
     "name": "stderr",
     "output_type": "stream",
     "text": [
      "Inference: 100%|██████████| 1/1 [00:00<00:00, 14.71test_batch/s]\n"
     ]
    },
    {
     "name": "stdout",
     "output_type": "stream",
     "text": [
      "/kaggle/input/2d-new/v17_newdata/wavenet_fold_2_s2_best.pth\n"
     ]
    },
    {
     "name": "stderr",
     "output_type": "stream",
     "text": [
      "Inference: 100%|██████████| 1/1 [00:00<00:00, 14.93test_batch/s]\n"
     ]
    },
    {
     "name": "stdout",
     "output_type": "stream",
     "text": [
      "/kaggle/input/2d-new/v17_newdata/wavenet_fold_3_s2_best.pth\n"
     ]
    },
    {
     "name": "stderr",
     "output_type": "stream",
     "text": [
      "Inference: 100%|██████████| 1/1 [00:00<00:00, 16.03test_batch/s]\n"
     ]
    },
    {
     "name": "stdout",
     "output_type": "stream",
     "text": [
      "/kaggle/input/2d-new/v17_newdata/wavenet_fold_4_s2_best.pth\n"
     ]
    },
    {
     "name": "stderr",
     "output_type": "stream",
     "text": [
      "Inference: 100%|██████████| 1/1 [00:00<00:00, 16.57test_batch/s]\n"
     ]
    }
   ],
   "source": [
    "predictions_v17_s2 = []\n",
    "\n",
    "for model_weight in model_weights:\n",
    "    print(model_weight)\n",
    "    test_dataset = CustomDataset(test_df, config, mode=\"test\")\n",
    "    test_loader = DataLoader(\n",
    "        test_dataset,\n",
    "        batch_size=config.BATCH_SIZE,\n",
    "        shuffle=False,\n",
    "        num_workers=config.NUM_WORKERS, pin_memory=True, drop_last=False\n",
    "    )\n",
    "#     model = CustomModel(config)\n",
    "    checkpoint = torch.load(model_weight)\n",
    "    model.load_state_dict(checkpoint[\"model\"])\n",
    "    model.to(device)\n",
    "    prediction_dict = inference_function(test_loader, model, device)\n",
    "    predictions_v17_s2.append(prediction_dict[\"predictions\"])\n",
    "    torch.cuda.empty_cache()\n",
    "    gc.collect()\n",
    "    \n",
    "predictions_v17_s2 = np.array(predictions_v17_s2)\n",
    "predictions_v17_s2 = np.mean(predictions_v17_s2, axis=0)"
   ]
  },
  {
   "cell_type": "markdown",
   "id": "9056ab98",
   "metadata": {
    "papermill": {
     "duration": 0.02782,
     "end_time": "2024-04-01T01:56:22.277165",
     "exception": false,
     "start_time": "2024-04-01T01:56:22.249345",
     "status": "completed"
    },
    "tags": []
   },
   "source": [
    "# v16 s2"
   ]
  },
  {
   "cell_type": "code",
   "execution_count": 22,
   "id": "03027a7c",
   "metadata": {
    "execution": {
     "iopub.execute_input": "2024-04-01T01:56:22.335690Z",
     "iopub.status.busy": "2024-04-01T01:56:22.334816Z",
     "iopub.status.idle": "2024-04-01T01:56:22.341257Z",
     "shell.execute_reply": "2024-04-01T01:56:22.340442Z"
    },
    "papermill": {
     "duration": 0.038276,
     "end_time": "2024-04-01T01:56:22.343416",
     "exception": false,
     "start_time": "2024-04-01T01:56:22.305140",
     "status": "completed"
    },
    "tags": []
   },
   "outputs": [
    {
     "data": {
      "text/plain": [
       "['/kaggle/input/2d-new/v16_newdata/wavenet_fold_0_s2_best.pth',\n",
       " '/kaggle/input/2d-new/v16_newdata/wavenet_fold_1_s2_best.pth',\n",
       " '/kaggle/input/2d-new/v16_newdata/wavenet_fold_2_s2_best.pth',\n",
       " '/kaggle/input/2d-new/v16_newdata/wavenet_fold_3_s2_best.pth',\n",
       " '/kaggle/input/2d-new/v16_newdata/wavenet_fold_4_s2_best.pth']"
      ]
     },
     "execution_count": 22,
     "metadata": {},
     "output_type": "execute_result"
    }
   ],
   "source": [
    "model_weights = [f\"/kaggle/input/2d-new/v16_newdata/wavenet_fold_{x}_s2_best.pth\" for x in range(5)]\n",
    "# model_weights.append('/kaggle/input/2d-new/v16_newdata/all_data_epoch_4.pth')\n",
    "model_weights"
   ]
  },
  {
   "cell_type": "code",
   "execution_count": 23,
   "id": "c1e5ee33",
   "metadata": {
    "execution": {
     "iopub.execute_input": "2024-04-01T01:56:22.403470Z",
     "iopub.status.busy": "2024-04-01T01:56:22.403119Z",
     "iopub.status.idle": "2024-04-01T01:56:22.428571Z",
     "shell.execute_reply": "2024-04-01T01:56:22.427717Z"
    },
    "papermill": {
     "duration": 0.057824,
     "end_time": "2024-04-01T01:56:22.430427",
     "exception": false,
     "start_time": "2024-04-01T01:56:22.372603",
     "status": "completed"
    },
    "tags": []
   },
   "outputs": [],
   "source": [
    "class CustomDataset(Dataset):\n",
    "    def __init__(\n",
    "        self, df, config, mode='train', specs=all_spectrograms, eeg_specs=all_eegs_specs, downsample=5, augment=config.augment, data_mean=data_mean, data_std=data_std\n",
    "    ): \n",
    "        self.df = df\n",
    "        self.config = config\n",
    "        self.mode = mode\n",
    "        self.spectrograms = specs\n",
    "        self.eeg_spectrograms = eeg_specs\n",
    "        self.downsample = downsample\n",
    "        self.augment = augment\n",
    "        self.USE_KAGGLE_SPECTROGRAMS = True\n",
    "        self.USE_EEG_SPECTROGRAMS = True\n",
    "        self.all_eegs_512_spec = all_eegs_512_spec\n",
    "        self.data_mean = data_mean\n",
    "        self.data_std = data_std\n",
    "        \n",
    "    def __len__(self):\n",
    "        \"\"\"\n",
    "        Length of dataset.\n",
    "        \"\"\"\n",
    "        return len(self.df)\n",
    "        \n",
    "    def __getitem__(self, index):\n",
    "        \"\"\"\n",
    "        Get one item.\n",
    "        \"\"\"\n",
    "        X1, X2, y = self.__data_generation(index)\n",
    "        \n",
    "        # if self.augment and self.mode == 'train':\n",
    "        #     X_spec = self.__transform(X_spec) \n",
    "        \n",
    "        output = {\n",
    "            \"X1\": torch.tensor(X1, dtype=torch.float32),\n",
    "            \"X2\": torch.tensor(X2, dtype=torch.float32),\n",
    "            \"y\": torch.tensor(y, dtype=torch.float32)\n",
    "        }\n",
    "        return output\n",
    "    \n",
    "    def get_datasetwidenorm(self, eeg_id):\n",
    "        \"\"\"This function will get the batch and preprocess it.\"\"\"\n",
    "        # Set a small epsilon to avoid division by zero\n",
    "        eps = 1e-6\n",
    "\n",
    "        # Read data from parquet file\n",
    "        data = all_eegs[eeg_id]\n",
    "        data = create_spectrogram(data)\n",
    "\n",
    "        # Fill missing values with the specified constant\n",
    "        mask = np.isnan(data)\n",
    "        data[mask] = -1\n",
    "\n",
    "        # Clip values and apply logarithmic transformation\n",
    "        data = np.clip(data, np.exp(-6), np.exp(10))\n",
    "        data = np.log(data)\n",
    "\n",
    "        # Normalize the data\n",
    "        data = (data - self.data_mean) / (self.data_std + eps)\n",
    "\n",
    "        # Convert data to a PyTorch tensor and apply transformations\n",
    "        data_tensor = torch.unsqueeze(torch.Tensor(data), dim=0)\n",
    "        data = config.image_transform(data_tensor)\n",
    "\n",
    "        # Return the batch data\n",
    "        return data.numpy()\n",
    "                        \n",
    "    def __data_generation(self, index):\n",
    "        row = self.df.iloc[index]\n",
    "        \n",
    "        X1, X2 = self.__spec_data_gen(row)\n",
    "        \n",
    "        y = np.zeros(6, dtype='float32')\n",
    "        if self.mode != 'test':\n",
    "            y = row[label_cols].values.astype(np.float32)\n",
    "            \n",
    "        return X1, X2, y\n",
    "        \n",
    " \n",
    "    def __spec_data_gen(self, row):\n",
    "        \"\"\"\n",
    "        Generates spec data containing batch_size samples.\n",
    "        \"\"\"\n",
    "        X = np.zeros((128, 256, 8), dtype='float32')\n",
    "        img = np.ones((128,256), dtype='float32')\n",
    "        if self.mode=='test': \n",
    "            r = 0\n",
    "        else: \n",
    "            r = int((row['min'] + row['max']) // 4)\n",
    "        # r = int(row['spectrogram_label_offset_seconds'] // 2)\n",
    "\n",
    "        for region in range(4):\n",
    "            img = self.spectrograms[row.spectrogram_id][r:r+300, region*100:(region+1)*100].T\n",
    "\n",
    "            # Log transform spectogram\n",
    "            img = np.clip(img, np.exp(-4), np.exp(8))\n",
    "            img = np.log(img)\n",
    "\n",
    "            # Standarize per image\n",
    "            ep = 1e-6\n",
    "            mu = np.nanmean(img.flatten())\n",
    "            std = np.nanstd(img.flatten())\n",
    "            img = (img-mu)/(std+ep)\n",
    "            img = np.nan_to_num(img, nan=0.0)\n",
    "            X[14:-14, :, region] = img[:, 22:-22] / 2.0\n",
    "            img = self.eeg_spectrograms[row.eeg_id]\n",
    "            X[:, :, 4:] = img\n",
    "            \n",
    "        # === Get spectrograms ===\n",
    "        spectrograms = np.concatenate([X[:, :, i:i+1] for i in range(4)], axis=0)\n",
    "\n",
    "        # === Get EEG spectrograms ===\n",
    "        eegs = np.concatenate([X[:, :, i:i+1] for i in range(4, 8)], axis=0)\n",
    "        \n",
    "        X = np.concatenate([spectrograms, eegs], axis=1) #[512, 512, 1]\n",
    "        X = np.transpose(X, (2, 0, 1))\n",
    "        X = np.tile(X, (3, 1, 1))\n",
    "            \n",
    "#         spec = self.all_eegs_512_spec[str(row['eeg_id'])]\n",
    "#         spec = spec[np.newaxis, :, :]\n",
    "#         spec = np.tile(spec, (3, 1, 1))\n",
    "        \n",
    "        new_norm = self.get_datasetwidenorm(row['eeg_id'])\n",
    "        new_norm = np.tile(new_norm, (3, 1, 1))\n",
    "        \n",
    "        return X, new_norm\n",
    "    \n",
    "    def __transform(self, img):\n",
    "        fill_value = tuple(range(img.shape[-1]))\n",
    "        params1 = {\n",
    "                    \"num_masks_x\": 1,    \n",
    "                    \"mask_x_length\": (0, 20), # This line changed from fixed  to a range\n",
    "                    \"fill_value\": fill_value,\n",
    "                    }\n",
    "        params2 = {    \n",
    "                    \"num_masks_y\": 1,    \n",
    "                    \"mask_y_length\": (0, 20),\n",
    "                    \"fill_value\": fill_value,\n",
    "                    }\n",
    "        params3 = {    \n",
    "                    \"num_masks_x\": (2, 4),\n",
    "                    \"num_masks_y\": 5,    \n",
    "                    \"mask_y_length\": 8,\n",
    "                    \"mask_x_length\": (10, 20),\n",
    "                    \"fill_value\": fill_value,\n",
    "                    }\n",
    "        \n",
    "        transforms = A.Compose([\n",
    "            # A.XYMasking(**params1, p=0.5),\n",
    "            # A.XYMasking(**params2, p=0.5),\n",
    "            # A.XYMasking(**params3, p=0.5),\n",
    "            # A.RandomRotate90(),\n",
    "            # A.VerticalFlip(p=0.5),\n",
    "            # A.HorizontalFlip(),\n",
    "            A.MixUp(reference_data=self.df.index.to_list(), read_fn=self.read_fn, alpha=1, p=0.5)\n",
    "        ])\n",
    "        return transforms(image=img)['image']\n",
    "\n",
    "    \n",
    "    def read_fn(self, index):\n",
    "        row = self.df.iloc[index]\n",
    "        img = self.__spec_data_gen(row)\n",
    "\n",
    "        # img = normalize_image(img)\n",
    "        \n",
    "        global_label = row[label_cols].values.astype(np.float32)\n",
    "\n",
    "        return {\"image\": img, \"global_label\": global_label}"
   ]
  },
  {
   "cell_type": "code",
   "execution_count": 24,
   "id": "8afa44db",
   "metadata": {
    "execution": {
     "iopub.execute_input": "2024-04-01T01:56:22.489237Z",
     "iopub.status.busy": "2024-04-01T01:56:22.488783Z",
     "iopub.status.idle": "2024-04-01T01:56:22.496914Z",
     "shell.execute_reply": "2024-04-01T01:56:22.495870Z"
    },
    "papermill": {
     "duration": 0.039486,
     "end_time": "2024-04-01T01:56:22.498786",
     "exception": false,
     "start_time": "2024-04-01T01:56:22.459300",
     "status": "completed"
    },
    "tags": []
   },
   "outputs": [],
   "source": [
    "def inference_function(test_loader, model, device):\n",
    "    model.eval()\n",
    "    softmax = nn.Softmax(dim=1)\n",
    "    prediction_dict = {}\n",
    "    preds = []\n",
    "    with tqdm(test_loader, unit=\"test_batch\", desc='Inference') as tqdm_test_loader:\n",
    "        for step, output in enumerate(tqdm_test_loader):\n",
    "            X1 = output['X1'].to(device)            \n",
    "            X2 = output['X2'].to(device)\n",
    "#             X_spec = X_spec.to(device)\n",
    "            with torch.no_grad():\n",
    "                res, res_eeg, res_spec, eeg_emb, spec_emb = model(X1, X2)\n",
    "#                 y_preds = res*0.362 + res_eeg*0.326 + res_spec*0.312\n",
    "\n",
    "                res = softmax(res)\n",
    "                res_eeg = softmax(res_eeg)\n",
    "                res_spec = softmax(res_spec)\n",
    "            \n",
    "                y_preds = res*0.356 + res_eeg*0.31 + res_spec*0.334\n",
    "            preds.append(y_preds.to('cpu').numpy()) \n",
    "                \n",
    "    prediction_dict[\"predictions\"] = np.concatenate(preds) \n",
    "    return prediction_dict"
   ]
  },
  {
   "cell_type": "code",
   "execution_count": 25,
   "id": "0dd44840",
   "metadata": {
    "execution": {
     "iopub.execute_input": "2024-04-01T01:56:22.557704Z",
     "iopub.status.busy": "2024-04-01T01:56:22.556897Z",
     "iopub.status.idle": "2024-04-01T01:56:28.940373Z",
     "shell.execute_reply": "2024-04-01T01:56:28.939408Z"
    },
    "papermill": {
     "duration": 6.414693,
     "end_time": "2024-04-01T01:56:28.942439",
     "exception": false,
     "start_time": "2024-04-01T01:56:22.527746",
     "status": "completed"
    },
    "tags": []
   },
   "outputs": [
    {
     "name": "stderr",
     "output_type": "stream",
     "text": [
      "Inference: 100%|██████████| 1/1 [00:00<00:00, 14.93test_batch/s]\n",
      "Inference: 100%|██████████| 1/1 [00:00<00:00, 15.07test_batch/s]\n",
      "Inference: 100%|██████████| 1/1 [00:00<00:00, 15.55test_batch/s]\n",
      "Inference: 100%|██████████| 1/1 [00:00<00:00, 14.88test_batch/s]\n",
      "Inference: 100%|██████████| 1/1 [00:00<00:00, 14.12test_batch/s]\n"
     ]
    }
   ],
   "source": [
    "predictions_v16_s2 = []\n",
    "\n",
    "for model_weight in model_weights:\n",
    "    test_dataset = CustomDataset(test_df, config, mode=\"test\")\n",
    "    test_loader = DataLoader(\n",
    "        test_dataset,\n",
    "        batch_size=config.BATCH_SIZE,\n",
    "        shuffle=False,\n",
    "        num_workers=config.NUM_WORKERS, pin_memory=True, drop_last=False\n",
    "    )\n",
    "#     model = CustomModel(config)\n",
    "    checkpoint = torch.load(model_weight)\n",
    "    model.load_state_dict(checkpoint[\"model\"])\n",
    "    model.to(device)\n",
    "    prediction_dict = inference_function(test_loader, model, device)\n",
    "    predictions_v16_s2.append(prediction_dict[\"predictions\"])\n",
    "    torch.cuda.empty_cache()\n",
    "    gc.collect()\n",
    "    \n",
    "predictions_v16_s2 = np.array(predictions_v16_s2)\n",
    "predictions_v16_s2 = np.mean(predictions_v16_s2, axis=0)"
   ]
  },
  {
   "cell_type": "markdown",
   "id": "e85ab963",
   "metadata": {
    "papermill": {
     "duration": 0.029686,
     "end_time": "2024-04-01T01:56:29.002579",
     "exception": false,
     "start_time": "2024-04-01T01:56:28.972893",
     "status": "completed"
    },
    "tags": []
   },
   "source": [
    "# v12 s2"
   ]
  },
  {
   "cell_type": "code",
   "execution_count": 26,
   "id": "048d93ed",
   "metadata": {
    "execution": {
     "iopub.execute_input": "2024-04-01T01:56:29.063872Z",
     "iopub.status.busy": "2024-04-01T01:56:29.063495Z",
     "iopub.status.idle": "2024-04-01T01:56:29.070752Z",
     "shell.execute_reply": "2024-04-01T01:56:29.069896Z"
    },
    "papermill": {
     "duration": 0.039838,
     "end_time": "2024-04-01T01:56:29.072650",
     "exception": false,
     "start_time": "2024-04-01T01:56:29.032812",
     "status": "completed"
    },
    "tags": []
   },
   "outputs": [
    {
     "data": {
      "text/plain": [
       "['/kaggle/input/2d-new/v12_newdata/wavenet_fold_0_s2_best.pth',\n",
       " '/kaggle/input/2d-new/v12_newdata/wavenet_fold_1_s2_best.pth',\n",
       " '/kaggle/input/2d-new/v12_newdata/wavenet_fold_2_s2_best.pth',\n",
       " '/kaggle/input/2d-new/v12_newdata/wavenet_fold_3_s2_best.pth',\n",
       " '/kaggle/input/2d-new/v12_newdata/wavenet_fold_4_s2_best.pth']"
      ]
     },
     "execution_count": 26,
     "metadata": {},
     "output_type": "execute_result"
    }
   ],
   "source": [
    "model_weights = [f\"/kaggle/input/2d-new/v12_newdata/wavenet_fold_{x}_s2_best.pth\" for x in range(5)]\n",
    "# model_weights.append('/kaggle/input/2d-new/v12_newdata/all_data_epoch_4.pth')\n",
    "model_weights"
   ]
  },
  {
   "cell_type": "code",
   "execution_count": 27,
   "id": "cf5f932c",
   "metadata": {
    "execution": {
     "iopub.execute_input": "2024-04-01T01:56:29.134382Z",
     "iopub.status.busy": "2024-04-01T01:56:29.134016Z",
     "iopub.status.idle": "2024-04-01T01:56:29.160014Z",
     "shell.execute_reply": "2024-04-01T01:56:29.159193Z"
    },
    "papermill": {
     "duration": 0.059384,
     "end_time": "2024-04-01T01:56:29.161905",
     "exception": false,
     "start_time": "2024-04-01T01:56:29.102521",
     "status": "completed"
    },
    "tags": []
   },
   "outputs": [],
   "source": [
    "class CustomDataset(Dataset):\n",
    "    def __init__(\n",
    "        self, df, config, mode='train', specs=all_spectrograms, eeg_specs=all_eegs_specs, downsample=5, augment=config.augment, data_mean=data_mean, data_std=data_std\n",
    "    ): \n",
    "        self.df = df\n",
    "        self.config = config\n",
    "        self.mode = mode\n",
    "        self.spectrograms = specs\n",
    "        self.eeg_spectrograms = eeg_specs\n",
    "        self.downsample = downsample\n",
    "        self.augment = augment\n",
    "        self.USE_KAGGLE_SPECTROGRAMS = True\n",
    "        self.USE_EEG_SPECTROGRAMS = True\n",
    "        self.all_eegs_512_spec = all_eegs_512_spec\n",
    "        self.data_mean = data_mean\n",
    "        self.data_std = data_std\n",
    "        \n",
    "    def __len__(self):\n",
    "        \"\"\"\n",
    "        Length of dataset.\n",
    "        \"\"\"\n",
    "        return len(self.df)\n",
    "        \n",
    "    def __getitem__(self, index):\n",
    "        \"\"\"\n",
    "        Get one item.\n",
    "        \"\"\"\n",
    "        X1, X2, y = self.__data_generation(index)\n",
    "        \n",
    "        # if self.augment and self.mode == 'train':\n",
    "        #     X_spec = self.__transform(X_spec) \n",
    "        \n",
    "        output = {\n",
    "            \"X1\": torch.tensor(X1, dtype=torch.float32),\n",
    "            \"X2\": torch.tensor(X2, dtype=torch.float32),\n",
    "            \"y\": torch.tensor(y, dtype=torch.float32)\n",
    "        }\n",
    "        return output\n",
    "    \n",
    "    def get_datasetwidenorm(self, eeg_id):\n",
    "        \"\"\"This function will get the batch and preprocess it.\"\"\"\n",
    "        # Set a small epsilon to avoid division by zero\n",
    "        eps = 1e-6\n",
    "\n",
    "        # Read data from parquet file\n",
    "        data = all_eegs[eeg_id]\n",
    "        data = create_spectrogram(data)\n",
    "\n",
    "        # Fill missing values with the specified constant\n",
    "        mask = np.isnan(data)\n",
    "        data[mask] = -1\n",
    "\n",
    "        # Clip values and apply logarithmic transformation\n",
    "        data = np.clip(data, np.exp(-6), np.exp(10))\n",
    "        data = np.log(data)\n",
    "\n",
    "        # Normalize the data\n",
    "        data = (data - self.data_mean) / (self.data_std + eps)\n",
    "\n",
    "        # Convert data to a PyTorch tensor and apply transformations\n",
    "        data_tensor = torch.unsqueeze(torch.Tensor(data), dim=0)\n",
    "        data = config.image_transform(data_tensor)\n",
    "\n",
    "        # Return the batch data\n",
    "        return data.numpy()\n",
    "                        \n",
    "    def __data_generation(self, index):\n",
    "        row = self.df.iloc[index]\n",
    "        \n",
    "        X1, X2 = self.__spec_data_gen(row)\n",
    "        \n",
    "        y = np.zeros(6, dtype='float32')\n",
    "        if self.mode != 'test':\n",
    "            y = row[label_cols].values.astype(np.float32)\n",
    "            \n",
    "        return X1, X2, y\n",
    "        \n",
    " \n",
    "    def __spec_data_gen(self, row):\n",
    "        \"\"\"\n",
    "        Generates spec data containing batch_size samples.\n",
    "        \"\"\"\n",
    "        X = np.zeros((128, 256, 8), dtype='float32')\n",
    "        img = np.ones((128,256), dtype='float32')\n",
    "        if self.mode=='test': \n",
    "            r = 0\n",
    "        else: \n",
    "            r = int((row['min'] + row['max']) // 4)\n",
    "        # r = int(row['spectrogram_label_offset_seconds'] // 2)\n",
    "\n",
    "        for region in range(4):\n",
    "            img = self.spectrograms[row.spectrogram_id][r:r+300, region*100:(region+1)*100].T\n",
    "\n",
    "            # Log transform spectogram\n",
    "            img = np.clip(img, np.exp(-4), np.exp(8))\n",
    "            img = np.log(img)\n",
    "\n",
    "            # Standarize per image\n",
    "            ep = 1e-6\n",
    "            mu = np.nanmean(img.flatten())\n",
    "            std = np.nanstd(img.flatten())\n",
    "            img = (img-mu)/(std+ep)\n",
    "            img = np.nan_to_num(img, nan=0.0)\n",
    "            X[14:-14, :, region] = img[:, 22:-22] / 2.0\n",
    "            img = self.eeg_spectrograms[row.eeg_id]\n",
    "            X[:, :, 4:] = img\n",
    "            \n",
    "        # === Get spectrograms ===\n",
    "        spectrograms = np.concatenate([X[:, :, i:i+1] for i in range(4)], axis=0)\n",
    "\n",
    "        # === Get EEG spectrograms ===\n",
    "        eegs = np.concatenate([X[:, :, i:i+1] for i in range(4, 8)], axis=0)\n",
    "        \n",
    "        X = np.concatenate([spectrograms, eegs], axis=1) #[512, 512, 1]\n",
    "        X = np.transpose(X, (2, 0, 1))\n",
    "        X = np.tile(X, (3, 1, 1))\n",
    "            \n",
    "        spec = self.all_eegs_512_spec[str(row['eeg_id'])]\n",
    "        spec = spec[np.newaxis, :, :]\n",
    "        spec = np.tile(spec, (3, 1, 1))\n",
    "        \n",
    "#         new_norm = self.get_datasetwidenorm(row['eeg_id'])\n",
    "#         new_norm = np.tile(new_norm, (3, 1, 1))\n",
    "        \n",
    "        return X, spec\n",
    "    \n",
    "    def __transform(self, img):\n",
    "        fill_value = tuple(range(img.shape[-1]))\n",
    "        params1 = {\n",
    "                    \"num_masks_x\": 1,    \n",
    "                    \"mask_x_length\": (0, 20), # This line changed from fixed  to a range\n",
    "                    \"fill_value\": fill_value,\n",
    "                    }\n",
    "        params2 = {    \n",
    "                    \"num_masks_y\": 1,    \n",
    "                    \"mask_y_length\": (0, 20),\n",
    "                    \"fill_value\": fill_value,\n",
    "                    }\n",
    "        params3 = {    \n",
    "                    \"num_masks_x\": (2, 4),\n",
    "                    \"num_masks_y\": 5,    \n",
    "                    \"mask_y_length\": 8,\n",
    "                    \"mask_x_length\": (10, 20),\n",
    "                    \"fill_value\": fill_value,\n",
    "                    }\n",
    "        \n",
    "        transforms = A.Compose([\n",
    "            # A.XYMasking(**params1, p=0.5),\n",
    "            # A.XYMasking(**params2, p=0.5),\n",
    "            # A.XYMasking(**params3, p=0.5),\n",
    "            # A.RandomRotate90(),\n",
    "            # A.VerticalFlip(p=0.5),\n",
    "            # A.HorizontalFlip(),\n",
    "            A.MixUp(reference_data=self.df.index.to_list(), read_fn=self.read_fn, alpha=1, p=0.5)\n",
    "        ])\n",
    "        return transforms(image=img)['image']\n",
    "\n",
    "    \n",
    "    def read_fn(self, index):\n",
    "        row = self.df.iloc[index]\n",
    "        img = self.__spec_data_gen(row)\n",
    "\n",
    "        # img = normalize_image(img)\n",
    "        \n",
    "        global_label = row[label_cols].values.astype(np.float32)\n",
    "\n",
    "        return {\"image\": img, \"global_label\": global_label}"
   ]
  },
  {
   "cell_type": "code",
   "execution_count": 28,
   "id": "43340c2f",
   "metadata": {
    "execution": {
     "iopub.execute_input": "2024-04-01T01:56:29.223810Z",
     "iopub.status.busy": "2024-04-01T01:56:29.223127Z",
     "iopub.status.idle": "2024-04-01T01:56:29.230761Z",
     "shell.execute_reply": "2024-04-01T01:56:29.229902Z"
    },
    "papermill": {
     "duration": 0.040438,
     "end_time": "2024-04-01T01:56:29.232650",
     "exception": false,
     "start_time": "2024-04-01T01:56:29.192212",
     "status": "completed"
    },
    "tags": []
   },
   "outputs": [],
   "source": [
    "def inference_function(test_loader, model, device):\n",
    "    model.eval()\n",
    "    softmax = nn.Softmax(dim=1)\n",
    "    prediction_dict = {}\n",
    "    preds = []\n",
    "    with tqdm(test_loader, unit=\"test_batch\", desc='Inference') as tqdm_test_loader:\n",
    "        for step, output in enumerate(tqdm_test_loader):\n",
    "            X1 = output['X1'].to(device)            \n",
    "            X2 = output['X2'].to(device)\n",
    "#             X_spec = X_spec.to(device)\n",
    "            with torch.no_grad():\n",
    "                res, res_eeg, res_spec, eeg_emb, spec_emb = model(X1, X2)\n",
    "#                 y_preds = res*0.362 + res_eeg*0.326 + res_spec*0.312\n",
    "\n",
    "                res = softmax(res)\n",
    "                res_eeg = softmax(res_eeg)\n",
    "                res_spec = softmax(res_spec)\n",
    "            \n",
    "                y_preds = res*0.35 + res_eeg*0.323 + res_spec*0.327\n",
    "            preds.append(y_preds.to('cpu').numpy()) \n",
    "                \n",
    "    prediction_dict[\"predictions\"] = np.concatenate(preds) \n",
    "    return prediction_dict"
   ]
  },
  {
   "cell_type": "code",
   "execution_count": 29,
   "id": "01f3bd8a",
   "metadata": {
    "execution": {
     "iopub.execute_input": "2024-04-01T01:56:29.292804Z",
     "iopub.status.busy": "2024-04-01T01:56:29.292187Z",
     "iopub.status.idle": "2024-04-01T01:56:35.279917Z",
     "shell.execute_reply": "2024-04-01T01:56:35.279035Z"
    },
    "papermill": {
     "duration": 6.019823,
     "end_time": "2024-04-01T01:56:35.281916",
     "exception": false,
     "start_time": "2024-04-01T01:56:29.262093",
     "status": "completed"
    },
    "tags": []
   },
   "outputs": [
    {
     "name": "stderr",
     "output_type": "stream",
     "text": [
      "Inference: 100%|██████████| 1/1 [00:00<00:00, 25.98test_batch/s]\n",
      "Inference: 100%|██████████| 1/1 [00:00<00:00, 28.34test_batch/s]\n",
      "Inference: 100%|██████████| 1/1 [00:00<00:00, 28.67test_batch/s]\n",
      "Inference: 100%|██████████| 1/1 [00:00<00:00, 28.39test_batch/s]\n",
      "Inference: 100%|██████████| 1/1 [00:00<00:00, 29.43test_batch/s]\n"
     ]
    }
   ],
   "source": [
    "predictions_v12_s2 = []\n",
    "\n",
    "for model_weight in model_weights:\n",
    "    test_dataset = CustomDataset(test_df, config, mode=\"test\")\n",
    "    test_loader = DataLoader(\n",
    "        test_dataset,\n",
    "        batch_size=config.BATCH_SIZE,\n",
    "        shuffle=False,\n",
    "        num_workers=config.NUM_WORKERS, pin_memory=True, drop_last=False\n",
    "    )\n",
    "#     model = CustomModel(config)\n",
    "    checkpoint = torch.load(model_weight)\n",
    "    model.load_state_dict(checkpoint[\"model\"])\n",
    "    model.to(device)\n",
    "    prediction_dict = inference_function(test_loader, model, device)\n",
    "    predictions_v12_s2.append(prediction_dict[\"predictions\"])\n",
    "    torch.cuda.empty_cache()\n",
    "    gc.collect()\n",
    "    \n",
    "predictions_v12_s2 = np.array(predictions_v12_s2)\n",
    "predictions_v12_s2 = np.mean(predictions_v12_s2, axis=0)"
   ]
  },
  {
   "cell_type": "markdown",
   "id": "4acf8444",
   "metadata": {
    "papermill": {
     "duration": 0.030633,
     "end_time": "2024-04-01T01:56:35.344343",
     "exception": false,
     "start_time": "2024-04-01T01:56:35.313710",
     "status": "completed"
    },
    "tags": []
   },
   "source": [
    "# v70 s2"
   ]
  },
  {
   "cell_type": "code",
   "execution_count": 30,
   "id": "18b271bb",
   "metadata": {
    "execution": {
     "iopub.execute_input": "2024-04-01T01:56:35.407599Z",
     "iopub.status.busy": "2024-04-01T01:56:35.407235Z",
     "iopub.status.idle": "2024-04-01T01:56:35.421615Z",
     "shell.execute_reply": "2024-04-01T01:56:35.420756Z"
    },
    "papermill": {
     "duration": 0.048753,
     "end_time": "2024-04-01T01:56:35.423605",
     "exception": false,
     "start_time": "2024-04-01T01:56:35.374852",
     "status": "completed"
    },
    "tags": []
   },
   "outputs": [
    {
     "data": {
      "text/plain": [
       "['/kaggle/input/1d-2d-new/v70_newdata_re/wavenet_fold_4_best_s2.pth',\n",
       " '/kaggle/input/1d-2d-new/v70_newdata_re/wavenet_fold_0_best_s2.pth',\n",
       " '/kaggle/input/1d-2d-new/v70_newdata_re/wavenet_fold_3_best_s2.pth',\n",
       " '/kaggle/input/1d-2d-new/v70_newdata_re/wavenet_fold_1_best_s2.pth',\n",
       " '/kaggle/input/1d-2d-new/v70_newdata_re/wavenet_fold_2_best_s2.pth']"
      ]
     },
     "execution_count": 30,
     "metadata": {},
     "output_type": "execute_result"
    }
   ],
   "source": [
    "model_weights = [x for x in glob(\"/kaggle/input/1d-2d-new/v70_newdata_re/*.pth\")]\n",
    "model_weights"
   ]
  },
  {
   "cell_type": "code",
   "execution_count": 31,
   "id": "15216182",
   "metadata": {
    "execution": {
     "iopub.execute_input": "2024-04-01T01:56:35.487894Z",
     "iopub.status.busy": "2024-04-01T01:56:35.487078Z",
     "iopub.status.idle": "2024-04-01T01:56:35.498017Z",
     "shell.execute_reply": "2024-04-01T01:56:35.497136Z"
    },
    "papermill": {
     "duration": 0.044889,
     "end_time": "2024-04-01T01:56:35.499943",
     "exception": false,
     "start_time": "2024-04-01T01:56:35.455054",
     "status": "completed"
    },
    "tags": []
   },
   "outputs": [],
   "source": [
    "def eeg_from_parquet(parquet_path: str) -> np.ndarray:\n",
    "    \"\"\"\n",
    "    This function reads a parquet file and extracts the middle 50 seconds of readings. Then it fills NaN values\n",
    "    with the mean value (ignoring NaNs).\n",
    "    :param parquet_path: path to parquet file.\n",
    "    :param display: whether to display EEG plots or not.\n",
    "    :return data: np.array of shape  (time_steps, eeg_features) -> (10_000, 8)\n",
    "    \"\"\"\n",
    "    # === Extract middle 50 seconds ===\n",
    "    eeg = pd.read_parquet(parquet_path, columns=eeg_features)\n",
    "    rows = len(eeg)\n",
    "    offset = (rows - 10_000) // 2 # 50 * 200 = 10_000\n",
    "    eeg = eeg.iloc[offset:offset+10_000] # middle 50 seconds, has the same amount of readings to left and right\n",
    "    # === Convert to numpy ===\n",
    "    data = np.zeros((10_000, len(eeg_features))) # create placeholder of same shape with zeros\n",
    "    for index, feature in enumerate(eeg_features):\n",
    "        x = eeg[feature].values.astype('float32') # convert to float32\n",
    "        mean = np.nanmean(x) # arithmetic mean along the specified axis, ignoring NaNs\n",
    "        nan_percentage = np.isnan(x).mean() # percentage of NaN values in feature\n",
    "        # === Fill nan values ===\n",
    "        if nan_percentage < 1: # if some values are nan, but not all\n",
    "            x = np.nan_to_num(x, nan=mean)\n",
    "        else: # if all values are nan\n",
    "            x[:] = 0\n",
    "        data[:, index] = x\n",
    "   \n",
    "    return data\n",
    "\n",
    "\n",
    "def seed_everything(seed: int):\n",
    "    random.seed(seed)\n",
    "    np.random.seed(seed)\n",
    "    torch.manual_seed(seed)\n",
    "    os.environ['PYTHONHASHSEED'] = str(seed) \n",
    "    \n",
    "    \n",
    "def sep():\n",
    "    print(\"-\"*100)\n",
    "\n",
    "    \n",
    "target_preds = [x + \"_pred\" for x in ['seizure_vote', 'lpd_vote', 'gpd_vote', 'lrda_vote', 'grda_vote', 'other_vote']]\n",
    "label_to_num = {'Seizure': 0, 'LPD': 1, 'GPD': 2, 'LRDA': 3, 'GRDA': 4, 'Other':5}\n",
    "num_to_label = {v: k for k, v in label_to_num.items()}\n",
    "seed_everything(config.SEED)"
   ]
  },
  {
   "cell_type": "code",
   "execution_count": 32,
   "id": "07100ecd",
   "metadata": {
    "execution": {
     "iopub.execute_input": "2024-04-01T01:56:35.564903Z",
     "iopub.status.busy": "2024-04-01T01:56:35.564530Z",
     "iopub.status.idle": "2024-04-01T01:56:35.597652Z",
     "shell.execute_reply": "2024-04-01T01:56:35.596827Z"
    },
    "papermill": {
     "duration": 0.068099,
     "end_time": "2024-04-01T01:56:35.599581",
     "exception": false,
     "start_time": "2024-04-01T01:56:35.531482",
     "status": "completed"
    },
    "tags": []
   },
   "outputs": [],
   "source": [
    "class CustomDataset(Dataset):\n",
    "    def __init__(\n",
    "        self, df, config, mode='test', eegs=all_eegs, specs=all_spectrograms, eeg_specs=all_eegs_specs, downsample=5, data_mean=data_mean, data_std=data_std\n",
    "    ): \n",
    "        self.df = df\n",
    "        self.config = config\n",
    "        self.mode = mode\n",
    "        self.eegs = eegs\n",
    "        self.spectrograms = specs\n",
    "        self.eeg_spectrograms = eeg_specs\n",
    "        self.all_eegs_512_spec = all_eegs_512_spec\n",
    "        self.downsample = downsample\n",
    "        self.data_mean = data_mean\n",
    "        self.data_std = data_std\n",
    "        \n",
    "    def __len__(self):\n",
    "        \"\"\"\n",
    "        Length of dataset.\n",
    "        \"\"\"\n",
    "        return len(self.df)\n",
    "        \n",
    "    def __getitem__(self, index):\n",
    "        \"\"\"\n",
    "        Get one item.\n",
    "        \"\"\"\n",
    "        X_eeg, X_spec, y = self.__data_generation(index)\n",
    "            \n",
    "            \n",
    "        # X_eeg = X_eeg[::self.downsample,:]\n",
    "        output = {\n",
    "            \"X_eeg\": torch.tensor(X_eeg, dtype=torch.float32),\n",
    "            \"X_spec\": torch.tensor(X_spec, dtype=torch.float32),\n",
    "            \"y\": torch.tensor(y, dtype=torch.float32)\n",
    "        }\n",
    "        return output\n",
    "                        \n",
    "    def __data_generation(self, index):\n",
    "        row = self.df.iloc[index]\n",
    "        \n",
    "        X_eeg = self.__eeg_data_gen(row)\n",
    "        X_spec = self.__spec_data_gen(row)\n",
    "        \n",
    "        y = np.zeros(6, dtype='float32')\n",
    "        if self.mode != 'test':\n",
    "            y = row[label_cols].values.astype(np.float32)\n",
    "            \n",
    "        return X_eeg, X_spec, y\n",
    "        \n",
    "    def resize_func(self, x, target_size=10000, use_percentile_feat=False):\n",
    "        ch = x.shape[0] \n",
    "        input_size = x.shape[1]\n",
    "        pad = target_size - input_size % target_size\n",
    "        factor = (input_size + pad) / input_size\n",
    "        x = np.array([ndi.zoom(xi, zoom=factor, mode='reflect') for xi in x])\n",
    "        x = x.reshape((ch, target_size, -1))\n",
    "        res = {} \n",
    "        res['mean'] = np.mean(x, axis=2).reshape(-1, ch)\n",
    "        res['max'] = np.max(x, axis=2).reshape(-1, ch)\n",
    "        res['min'] = np.min(x, axis=2).reshape(-1, ch)\n",
    "        res['med'] = np.median(x, axis=2).reshape(-1, ch)\n",
    "        res['std'] = np.sqrt(np.var(x, axis=2).reshape(-1, ch))\n",
    "        if use_percentile_feat:\n",
    "           for p in [15, 30, 45, 60, 75, 90]:\n",
    "               res[f\"p{p}\"] = np.percentile(x, [p], axis=2).reshape(-1, ch)\n",
    "        return res\n",
    "\n",
    "    def get_datasetwidenorm(self, eeg_id):\n",
    "        \"\"\"This function will get the batch and preprocess it.\"\"\"\n",
    "        # Set a small epsilon to avoid division by zero\n",
    "        eps = 1e-6\n",
    "\n",
    "        # Read data from parquet file\n",
    "        data = all_eegs[eeg_id]\n",
    "        data = create_spectrogram(data)\n",
    "\n",
    "        # Fill missing values with the specified constant\n",
    "        mask = np.isnan(data)\n",
    "        data[mask] = -1\n",
    "\n",
    "        # Clip values and apply logarithmic transformation\n",
    "        data = np.clip(data, np.exp(-6), np.exp(10))\n",
    "        data = np.log(data)\n",
    "\n",
    "        # Normalize the data\n",
    "        data = (data - self.data_mean) / (self.data_std + eps)\n",
    "\n",
    "        # Convert data to a PyTorch tensor and apply transformations\n",
    "        data_tensor = torch.unsqueeze(torch.Tensor(data), dim=0)\n",
    "        data = config.image_transform(data_tensor)\n",
    "\n",
    "        # Return the batch data\n",
    "        return data.numpy()\n",
    "    \n",
    "    def __eeg_data_gen(self, row):\n",
    "        X = np.zeros((10_000, 8), dtype='float32')\n",
    "        data = self.eegs[row.eeg_id]\n",
    "        \n",
    "        # === Feature engineering ===\n",
    "        X[:,0] = data[:,feature_to_index['Fp1']] - data[:,feature_to_index['T3']]\n",
    "        X[:,1] = data[:,feature_to_index['T3']] - data[:,feature_to_index['O1']]\n",
    "\n",
    "        X[:,2] = data[:,feature_to_index['Fp1']] - data[:,feature_to_index['C3']]\n",
    "        X[:,3] = data[:,feature_to_index['C3']] - data[:,feature_to_index['O1']]\n",
    "\n",
    "        X[:,4] = data[:,feature_to_index['Fp2']] - data[:,feature_to_index['C4']]\n",
    "        X[:,5] = data[:,feature_to_index['C4']] - data[:,feature_to_index['O2']]\n",
    "\n",
    "        X[:,6] = data[:,feature_to_index['Fp2']] - data[:,feature_to_index['T4']]\n",
    "        X[:,7] = data[:,feature_to_index['T4']] - data[:,feature_to_index['O2']]\n",
    "\n",
    "\n",
    "        # if config.filter_signal:\n",
    "        #     diff_feat = butter_bandpass_filter(\n",
    "        #         diff_feat, config.lowcut, config.highcut, config.sampling_rate, order=config.filter_order\n",
    "        #     )\n",
    "\n",
    "        # if self.mode != \"test\" and random.uniform(0.0, 1.0) <= 0.1:\n",
    "        #     lowcut = random.randint(10, 25)  # random.uniform(1.0, 25.0)\n",
    "        #     highcut = lowcut + 1.0  # random.uniform(0.0, 0.01)\n",
    "        #     diff_feat = butter_bandpass_filter(\n",
    "        #         diff_feat, lowcut, highcut, config.sampling_rate, order=config.filter_order  # 6\n",
    "        #     )\n",
    "        \n",
    "        # new_feas_dict = self.resize_func(np.transpose(data, (1, 0)))\n",
    "        # # print(new_feas_dict['mean'].shape)\n",
    "        # for key, value in new_feas_dict.items():\n",
    "        #     X = np.concatenate([X, value], axis=1)\n",
    "        \n",
    "        # === Standarize ===\n",
    "        X = np.clip(X,-1024, 1024)\n",
    "        X = np.nan_to_num(X, nan=0) / 32.0\n",
    "\n",
    "        # === Butter Low-pass Filter ===\n",
    "        X = butter_lowpass_filter(X)\n",
    "        # X = quantize_data(X, 1)\n",
    "        \n",
    "        return X\n",
    "    \n",
    "    def __spec_data_gen(self, row):\n",
    "        \"\"\"\n",
    "        Generates spec data containing batch_size samples.\n",
    "        \"\"\"\n",
    "        # eeg_id = row['eeg_id']\n",
    "        # X = self.all_eegs_512_spec[str(eeg_id)]\n",
    "        X = np.zeros((128, 256, 8), dtype='float32')\n",
    "        img = np.ones((128,256), dtype='float32')\n",
    "        if self.mode=='test': \n",
    "            r = 0\n",
    "        else: \n",
    "            r = int((row['min'] + row['max']) // 4)\n",
    "            # r = int(row['spectrogram_label_offset_seconds'] // 2)\n",
    "            \n",
    "        for region in range(4):\n",
    "            img = self.spectrograms[row.spectrogram_id][r:r+300, region*100:(region+1)*100].T\n",
    "            \n",
    "            # Log transform spectogram\n",
    "            img = np.clip(img, np.exp(-4), np.exp(8))\n",
    "            img = np.log(img)\n",
    "\n",
    "            # Standarize per image\n",
    "            ep = 1e-6\n",
    "            mu = np.nanmean(img.flatten())\n",
    "            std = np.nanstd(img.flatten())\n",
    "            img = (img-mu)/(std+ep)\n",
    "            img = np.nan_to_num(img, nan=0.0)\n",
    "            X[14:-14, :, region] = img[:, 22:-22] / 2.0\n",
    "            img = self.eeg_spectrograms[row.eeg_id]\n",
    "            X[:, :, 4:] = img\n",
    "        \n",
    "        # === Get spectrograms ===\n",
    "        spectrograms = np.concatenate([X[:, :, i:i+1] for i in range(4)], axis=0)\n",
    "        \n",
    "        # === Get EEG spectrograms ===\n",
    "        eegs = np.concatenate([X[:, :, i:i+1] for i in range(4, 8)], axis=0)\n",
    "        \n",
    "        X = np.concatenate([spectrograms, eegs], axis=1) #[512, 512, 1]\n",
    "        X = np.transpose(X, (2, 0, 1))\n",
    "\n",
    "        spec = self.all_eegs_512_spec[str(row['eeg_id'])]\n",
    "        spec = spec[np.newaxis, :, :]\n",
    "        \n",
    "        new_norm = self.get_datasetwidenorm(row['eeg_id'])\n",
    "        # print(new_norm.shape)\n",
    "        \n",
    "        # # v54 [3, 1536, 512]\n",
    "        # X = np.concatenate([X, spec, spec], axis=1)\n",
    "        # X = np.tile(X, (3, 1, 1))\n",
    "        \n",
    "        # # v53 [3, 512, 512]\n",
    "        # X = np.concatenate([X, spec, spec], axis=0)\n",
    "        \n",
    "        # # v55 [3, 1024, 512]\n",
    "        # X = np.concatenate([X, spec], axis=1)\n",
    "        # X = np.tile(X, (3, 1, 1))\n",
    "        \n",
    "        # # v66 [3, 512, 1536]\n",
    "        # X = np.concatenate([X, X, spec], axis=1)\n",
    "        # X = np.tile(X, (3, 1, 1))\n",
    "        \n",
    "        # # v67\n",
    "        # X = np.concatenate([spectrograms, eegs, spec], axis=0)\n",
    "        \n",
    "        # # v68\n",
    "        # X = np.concatenate([X, spec, new_norm], axis=0)\n",
    "        \n",
    "        # v69\n",
    "        X = np.concatenate([X, spec, new_norm], axis=1)\n",
    "        X = np.tile(X, (3, 1, 1))\n",
    "        \n",
    "        return X"
   ]
  },
  {
   "cell_type": "code",
   "execution_count": 33,
   "id": "ac8501a9",
   "metadata": {
    "execution": {
     "iopub.execute_input": "2024-04-01T01:56:35.663336Z",
     "iopub.status.busy": "2024-04-01T01:56:35.663022Z",
     "iopub.status.idle": "2024-04-01T01:56:35.675355Z",
     "shell.execute_reply": "2024-04-01T01:56:35.674524Z"
    },
    "papermill": {
     "duration": 0.045953,
     "end_time": "2024-04-01T01:56:35.677154",
     "exception": false,
     "start_time": "2024-04-01T01:56:35.631201",
     "status": "completed"
    },
    "tags": []
   },
   "outputs": [],
   "source": [
    "class iAFF(nn.Module):\n",
    "    '''\n",
    "    多特征融合 iAFF\n",
    "    '''\n",
    "\n",
    "    def __init__(self, channels=6, r=2):\n",
    "        super(iAFF, self).__init__()\n",
    "        inter_channels = int(channels // r)\n",
    "\n",
    "        # 局部注意力\n",
    "        self.local_att = nn.Sequential(\n",
    "            nn.Conv1d(channels, inter_channels, kernel_size=1, stride=1, padding=0),\n",
    "            nn.BatchNorm1d(inter_channels),\n",
    "            nn.ReLU(inplace=True),\n",
    "            nn.Conv1d(inter_channels, channels, kernel_size=1, stride=1, padding=0),\n",
    "            nn.BatchNorm1d(channels),\n",
    "        )\n",
    "\n",
    "        # 全局注意力\n",
    "        self.global_att = nn.Sequential(\n",
    "            nn.AdaptiveAvgPool1d(1),\n",
    "            nn.Conv1d(channels, inter_channels, kernel_size=1, stride=1, padding=0),\n",
    "            nn.BatchNorm1d(inter_channels),\n",
    "            nn.ReLU(inplace=True),\n",
    "            nn.Conv1d(inter_channels, channels, kernel_size=1, stride=1, padding=0),\n",
    "            nn.BatchNorm1d(channels),\n",
    "        )\n",
    "\n",
    "        # 第二次局部注意力\n",
    "        self.local_att2 = nn.Sequential(\n",
    "            nn.Conv1d(channels, inter_channels, kernel_size=1, stride=1, padding=0),\n",
    "            nn.BatchNorm1d(inter_channels),\n",
    "            nn.ReLU(inplace=True),\n",
    "            nn.Conv1d(inter_channels, channels, kernel_size=1, stride=1, padding=0),\n",
    "            nn.BatchNorm1d(channels),\n",
    "        )\n",
    "        # 第二次全局注意力\n",
    "        self.global_att2 = nn.Sequential(\n",
    "            nn.AdaptiveAvgPool1d(1),\n",
    "            nn.Conv1d(channels, inter_channels, kernel_size=1, stride=1, padding=0),\n",
    "            nn.BatchNorm1d(inter_channels),\n",
    "            nn.ReLU(inplace=True),\n",
    "            nn.Conv1d(inter_channels, channels, kernel_size=1, stride=1, padding=0),\n",
    "            nn.BatchNorm1d(channels),\n",
    "        )\n",
    "\n",
    "        self.sigmoid = nn.Sigmoid()\n",
    "\n",
    "    def forward(self, x, residual):\n",
    "        xa = x + residual\n",
    "        xl = self.local_att(xa)\n",
    "        xg = self.global_att(xa)\n",
    "        xlg = xl + xg\n",
    "        wei = self.sigmoid(xlg)\n",
    "        xi = x * wei + residual * (1 - wei)\n",
    "\n",
    "        xl2 = self.local_att2(xi)\n",
    "        xg2 = self.global_att(xi)\n",
    "        xlg2 = xl2 + xg2\n",
    "        wei2 = self.sigmoid(xlg2)\n",
    "        xo = x * wei2 + residual * (1 - wei2)\n",
    "        return xo"
   ]
  },
  {
   "cell_type": "code",
   "execution_count": 34,
   "id": "13507d7f",
   "metadata": {
    "execution": {
     "iopub.execute_input": "2024-04-01T01:56:35.741307Z",
     "iopub.status.busy": "2024-04-01T01:56:35.740921Z",
     "iopub.status.idle": "2024-04-01T01:56:35.772188Z",
     "shell.execute_reply": "2024-04-01T01:56:35.771293Z"
    },
    "papermill": {
     "duration": 0.065696,
     "end_time": "2024-04-01T01:56:35.774001",
     "exception": false,
     "start_time": "2024-04-01T01:56:35.708305",
     "status": "completed"
    },
    "tags": []
   },
   "outputs": [],
   "source": [
    "class ResNet_1D_Block(nn.Module):\n",
    "\n",
    "    def __init__(self, in_channels, out_channels, kernel_size, stride, padding, downsampling):\n",
    "        super(ResNet_1D_Block, self).__init__()\n",
    "        self.bn1 = nn.BatchNorm1d(num_features=in_channels)\n",
    "        self.relu = nn.ReLU(inplace=False)\n",
    "        self.dropout = nn.Dropout(p=0.1, inplace=False)\n",
    "        self.conv1 = nn.Conv1d(in_channels=in_channels, out_channels=out_channels, kernel_size=kernel_size,\n",
    "                               stride=stride, padding=padding, bias=False)\n",
    "        self.bn2 = nn.BatchNorm1d(num_features=out_channels)\n",
    "        self.conv2 = nn.Conv1d(in_channels=out_channels, out_channels=out_channels, kernel_size=kernel_size,\n",
    "                               stride=stride, padding=padding, bias=False)\n",
    "        self.maxpool = nn.MaxPool1d(kernel_size=2, stride=2, padding=0)\n",
    "        self.downsampling = downsampling\n",
    "\n",
    "    def forward(self, x):\n",
    "        identity = x\n",
    "\n",
    "        out = self.bn1(x)\n",
    "        out = self.relu(out)\n",
    "        out = self.dropout(out)\n",
    "        out = self.conv1(out)\n",
    "        out = self.bn2(out)\n",
    "        out = self.relu(out)\n",
    "        out = self.dropout(out)\n",
    "        out = self.conv2(out)\n",
    "\n",
    "        out = self.maxpool(out)\n",
    "        identity = self.downsampling(x)\n",
    "\n",
    "        out += identity\n",
    "        return out\n",
    "import timm\n",
    "\n",
    "class EEGMegaNet(nn.Module):\n",
    "\n",
    "    def __init__(self, backbone_2d,in_channels_2d, kernels, in_channels=20, fixed_kernel_size=17, num_classes=6):\n",
    "        super(EEGMegaNet, self).__init__()\n",
    "        self.USE_KAGGLE_SPECTROGRAMS = True\n",
    "        self.USE_EEG_SPECTROGRAMS = True\n",
    "        \n",
    "        # CNN\n",
    "        self.kernels = kernels\n",
    "        self.planes = 24\n",
    "        self.parallel_conv = nn.ModuleList()\n",
    "        self.in_channels = in_channels\n",
    "        for i, kernel_size in enumerate(list(self.kernels)):\n",
    "            sep_conv = nn.Conv1d(in_channels=in_channels, out_channels=self.planes, kernel_size=(kernel_size),\n",
    "                               stride=1, padding=0, bias=False,)\n",
    "            self.parallel_conv.append(sep_conv)\n",
    "        self.bn1 = nn.BatchNorm1d(num_features=self.planes)\n",
    "        self.relu = nn.ReLU(inplace=False)\n",
    "        self.conv1 = nn.Conv1d(in_channels=self.planes, out_channels=self.planes, kernel_size=fixed_kernel_size,\n",
    "                               stride=2, padding=2, bias=False)\n",
    "        self.block = self._make_resnet_layer(kernel_size=fixed_kernel_size, stride=1, padding=fixed_kernel_size//2)\n",
    "        self.bn2 = nn.BatchNorm1d(num_features=self.planes)\n",
    "        self.avgpool = nn.AvgPool1d(kernel_size=4, stride=4, padding=2)\n",
    "        self.rnn = nn.GRU(input_size=self.in_channels, hidden_size=128, num_layers=1, bidirectional=True)\n",
    "\n",
    "        self.iaaf = iAFF(channels=3, r=1)\n",
    "\n",
    "        \n",
    "        # 2D efficient\n",
    "        self.backbone_2d = timm.create_model(\n",
    "            config.backbone_2d,\n",
    "            pretrained=config.pretrained,\n",
    "            drop_rate = 0.1,\n",
    "            drop_path_rate = 0.1\n",
    "        \n",
    "        )\n",
    "        self.features_2d = nn.Sequential(*list(self.backbone_2d.children())[:-2])\n",
    "        self.avg_pool_2d = nn.AdaptiveAvgPool2d(1)\n",
    "        self.flatten_2d = nn.Flatten()\n",
    "            \n",
    "        # forward\n",
    "        self.fc1 = nn.Linear(in_features=self.backbone_2d.num_features, out_features=128)\n",
    "        self.fc2 = nn.Linear(in_features=736, out_features=128)\n",
    "\n",
    "    \n",
    "        self.fc1d = nn.Linear(in_features=128, out_features=num_classes)\n",
    "        self.fc2d = nn.Linear(in_features=128, out_features=num_classes)\n",
    "\n",
    "        self.flatten_final = nn.Flatten()\n",
    "        self.fc = nn.Linear(in_features=128*3, out_features=num_classes)\n",
    "        \n",
    "        \n",
    "    def _make_resnet_layer(self, kernel_size, stride, blocks=8, padding=0):\n",
    "        layers = []\n",
    "        downsample = None\n",
    "        base_width = self.planes\n",
    "\n",
    "        for i in range(blocks):\n",
    "            downsampling = nn.Sequential(\n",
    "                    nn.MaxPool1d(kernel_size=2, stride=2, padding=0)\n",
    "                )\n",
    "            layers.append(ResNet_1D_Block(in_channels=self.planes, out_channels=self.planes, kernel_size=kernel_size,\n",
    "                                       stride=stride, padding=padding, downsampling=downsampling))\n",
    "\n",
    "        return nn.Sequential(*layers)\n",
    "\n",
    "\n",
    "    def __reshape_input(self, x):\n",
    "        \"\"\"\n",
    "        Reshapes input (128, 256, 8) -> (512, 512, 3) monotone image.\n",
    "        \"\"\" \n",
    "        # === Get spectrograms ===\n",
    "        spectrograms = [x[:, :, :, i:i+1] for i in range(4)]\n",
    "        spectrograms = torch.cat(spectrograms, dim=1)\n",
    "        \n",
    "        # === Get EEG spectrograms ===\n",
    "        eegs = [x[:, :, :, i:i+1] for i in range(4,8)]\n",
    "        eegs = torch.cat(eegs, dim=1)\n",
    "        \n",
    "        # === Reshape (512,512,3) ===\n",
    "        if self.USE_KAGGLE_SPECTROGRAMS & self.USE_EEG_SPECTROGRAMS:\n",
    "            x = torch.cat([spectrograms, eegs], dim=2)\n",
    "        elif self.USE_EEG_SPECTROGRAMS:\n",
    "            x = eegs\n",
    "        else:\n",
    "            x = spectrograms\n",
    "            \n",
    "        x = torch.cat([x,x,x], dim=3)\n",
    "        x = x.permute(0, 3, 1, 2)\n",
    "        return x\n",
    "    \n",
    "\n",
    "    def forward(self, x, spec):\n",
    "        # spec efficientB0\n",
    "#         spec = self.__reshape_input(spec)\n",
    "#         spec = spec.unsqueeze(1).repeat(1,3,1,1)\n",
    "        spec = self.features_2d(spec)\n",
    "        # print(spec.shape)\n",
    "        spec = self.avg_pool_2d(spec)\n",
    "        # print(spec.shape)\n",
    "        spec = self.flatten_2d(spec)\n",
    "        # print(spec.shape)\n",
    "        \n",
    "        spec_emb = self.fc1(spec)\n",
    "        outspec = self.fc2d(spec_emb)\n",
    "        # print(spec_emb.shape)\n",
    "        \n",
    "        # 1D CNN\n",
    "        x = x.permute(0, 2, 1)\n",
    "        \n",
    "        out_sep = []\n",
    "\n",
    "        for i in range(len(self.kernels)):\n",
    "            sep = self.parallel_conv[i](x)\n",
    "            out_sep.append(sep)\n",
    "\n",
    "        out = torch.cat(out_sep, dim=2)\n",
    "        out = self.bn1(out)\n",
    "        out = self.relu(out)\n",
    "        out = self.conv1(out)  \n",
    " \n",
    "        out = self.block(out)\n",
    "        out = self.bn2(out)\n",
    "        out = self.relu(out)\n",
    "        out = self.avgpool(out) \n",
    "\n",
    "        out = out.reshape(out.shape[0], -1)\n",
    "        rnn_out, _ = self.rnn(x.permute(0,2, 1))\n",
    "        new_rnn_h = rnn_out[:, -1, :]\n",
    "        new_out = torch.cat([out, new_rnn_h], dim=1)\n",
    "        eeg_emb = self.fc2(new_out)\n",
    "        outseeg = self.fc1d(eeg_emb)\n",
    "        \n",
    "        eeg_feas = eeg_emb.unsqueeze(1).repeat(1,3,1)\n",
    "        spec_feas = spec_emb.unsqueeze(1).repeat(1,3,1)\n",
    "        result = self.iaaf(eeg_feas, spec_feas)\n",
    "\n",
    "        # result = torch.cat([eeg_emb, spec_emb], dim=1)  \n",
    "        \n",
    "        # print(result.shape)\n",
    "        result = self.flatten_final(result)\n",
    "        # print(result.shape)\n",
    "        result = self.fc(result)\n",
    "        \n",
    "        \n",
    "        return result, eeg_emb, spec_emb, outseeg, outspec"
   ]
  },
  {
   "cell_type": "code",
   "execution_count": 35,
   "id": "4a35f45a",
   "metadata": {
    "execution": {
     "iopub.execute_input": "2024-04-01T01:56:35.838151Z",
     "iopub.status.busy": "2024-04-01T01:56:35.837800Z",
     "iopub.status.idle": "2024-04-01T01:56:35.952397Z",
     "shell.execute_reply": "2024-04-01T01:56:35.951449Z"
    },
    "papermill": {
     "duration": 0.149428,
     "end_time": "2024-04-01T01:56:35.954891",
     "exception": false,
     "start_time": "2024-04-01T01:56:35.805463",
     "status": "completed"
    },
    "tags": []
   },
   "outputs": [],
   "source": [
    "model = EEGMegaNet(backbone_2d=config.backbone_2d,in_channels_2d=8,\n",
    "                   kernels=[3,5,7,9],\n",
    "                   in_channels=config.num_channels, fixed_kernel_size=5,\n",
    "                   num_classes=6)"
   ]
  },
  {
   "cell_type": "code",
   "execution_count": 36,
   "id": "3043be48",
   "metadata": {
    "execution": {
     "iopub.execute_input": "2024-04-01T01:56:36.019405Z",
     "iopub.status.busy": "2024-04-01T01:56:36.018544Z",
     "iopub.status.idle": "2024-04-01T01:56:36.026913Z",
     "shell.execute_reply": "2024-04-01T01:56:36.026019Z"
    },
    "papermill": {
     "duration": 0.042512,
     "end_time": "2024-04-01T01:56:36.028888",
     "exception": false,
     "start_time": "2024-04-01T01:56:35.986376",
     "status": "completed"
    },
    "tags": []
   },
   "outputs": [],
   "source": [
    "def inference_function(test_loader, model, device):\n",
    "    model.eval()\n",
    "    softmax = nn.Softmax(dim=1)\n",
    "    prediction_dict = {}\n",
    "    preds = []\n",
    "    with tqdm(test_loader, unit=\"test_batch\", desc='Inference') as tqdm_test_loader:\n",
    "        for step, output in enumerate(tqdm_test_loader):\n",
    "            X_eeg, X_spec, y = output[\"X_eeg\"], output[\"X_spec\"], output[\"y\"]\n",
    "\n",
    "            X_eeg = X_eeg.to(device)\n",
    "            X_spec = X_spec.to(device)\n",
    "            y = y.to(device)\n",
    "\n",
    "            with torch.no_grad():\n",
    "                y_preds, eeg_emb, spec_emb, out1d, out2d = model(X_eeg, X_spec)\n",
    "#                 print(y_preds)\n",
    "                y_preds = softmax(y_preds)\n",
    "                out1d = softmax(out1d)\n",
    "                out2d = softmax(out2d)\n",
    "                y_preds = y_preds*0.371 + out1d*0.256 + out2d*0.373\n",
    "#             y_preds = softmax(y_preds)\n",
    "            preds.append(y_preds.to('cpu').numpy()) \n",
    "                \n",
    "    prediction_dict[\"predictions\"] = np.concatenate(preds) \n",
    "    return prediction_dict"
   ]
  },
  {
   "cell_type": "code",
   "execution_count": 37,
   "id": "bb116e62",
   "metadata": {
    "execution": {
     "iopub.execute_input": "2024-04-01T01:56:36.092464Z",
     "iopub.status.busy": "2024-04-01T01:56:36.091834Z",
     "iopub.status.idle": "2024-04-01T01:56:40.123324Z",
     "shell.execute_reply": "2024-04-01T01:56:40.122326Z"
    },
    "papermill": {
     "duration": 4.065323,
     "end_time": "2024-04-01T01:56:40.125575",
     "exception": false,
     "start_time": "2024-04-01T01:56:36.060252",
     "status": "completed"
    },
    "tags": []
   },
   "outputs": [
    {
     "name": "stderr",
     "output_type": "stream",
     "text": [
      "Inference: 100%|██████████| 1/1 [00:00<00:00,  4.56test_batch/s]\n",
      "Inference: 100%|██████████| 1/1 [00:00<00:00,  9.58test_batch/s]\n",
      "Inference: 100%|██████████| 1/1 [00:00<00:00, 10.10test_batch/s]\n",
      "Inference: 100%|██████████| 1/1 [00:00<00:00,  9.52test_batch/s]\n",
      "Inference: 100%|██████████| 1/1 [00:00<00:00, 10.30test_batch/s]\n"
     ]
    }
   ],
   "source": [
    "predictions_v70_s2 = []\n",
    "\n",
    "for model_weight in model_weights:\n",
    "    test_dataset = CustomDataset(test_df, config, mode=\"test\")\n",
    "    test_loader = DataLoader(\n",
    "        test_dataset,\n",
    "        batch_size=config.BATCH_SIZE,\n",
    "        shuffle=False,\n",
    "        num_workers=config.NUM_WORKERS, pin_memory=True, drop_last=False\n",
    "    )\n",
    "#     model = CustomModel(config)\n",
    "    checkpoint = torch.load(model_weight)\n",
    "    model.load_state_dict(checkpoint[\"model\"])\n",
    "    model.to(device)\n",
    "    prediction_dict = inference_function(test_loader, model, device)\n",
    "    predictions_v70_s2.append(prediction_dict[\"predictions\"])\n",
    "    torch.cuda.empty_cache()\n",
    "    gc.collect()\n",
    "    \n",
    "predictions_v70_s2 = np.array(predictions_v70_s2)\n",
    "predictions_v70_s2 = np.mean(predictions_v70_s2, axis=0)"
   ]
  },
  {
   "cell_type": "markdown",
   "id": "eed57ba5",
   "metadata": {
    "papermill": {
     "duration": 0.032688,
     "end_time": "2024-04-01T01:56:40.193909",
     "exception": false,
     "start_time": "2024-04-01T01:56:40.161221",
     "status": "completed"
    },
    "tags": []
   },
   "source": [
    "# <b><span style='color:#F1A424'>|</span> Save Submission</b><a class='anchor' id='submission'></a> [↑](#top) \n",
    "\n",
    "***"
   ]
  },
  {
   "cell_type": "code",
   "execution_count": 38,
   "id": "667f48d2",
   "metadata": {
    "execution": {
     "iopub.execute_input": "2024-04-01T01:56:40.263163Z",
     "iopub.status.busy": "2024-04-01T01:56:40.262792Z",
     "iopub.status.idle": "2024-04-01T01:56:40.286133Z",
     "shell.execute_reply": "2024-04-01T01:56:40.285188Z"
    },
    "papermill": {
     "duration": 0.061895,
     "end_time": "2024-04-01T01:56:40.288269",
     "exception": false,
     "start_time": "2024-04-01T01:56:40.226374",
     "status": "completed"
    },
    "tags": []
   },
   "outputs": [
    {
     "data": {
      "text/html": [
       "<div>\n",
       "<style scoped>\n",
       "    .dataframe tbody tr th:only-of-type {\n",
       "        vertical-align: middle;\n",
       "    }\n",
       "\n",
       "    .dataframe tbody tr th {\n",
       "        vertical-align: top;\n",
       "    }\n",
       "\n",
       "    .dataframe thead th {\n",
       "        text-align: right;\n",
       "    }\n",
       "</style>\n",
       "<table border=\"1\" class=\"dataframe\">\n",
       "  <thead>\n",
       "    <tr style=\"text-align: right;\">\n",
       "      <th></th>\n",
       "      <th>eeg_id</th>\n",
       "      <th>seizure_vote</th>\n",
       "      <th>lpd_vote</th>\n",
       "      <th>gpd_vote</th>\n",
       "      <th>lrda_vote</th>\n",
       "      <th>grda_vote</th>\n",
       "      <th>other_vote</th>\n",
       "    </tr>\n",
       "  </thead>\n",
       "  <tbody>\n",
       "    <tr>\n",
       "      <th>0</th>\n",
       "      <td>3911565283</td>\n",
       "      <td>0.020076</td>\n",
       "      <td>0.040848</td>\n",
       "      <td>0.000924</td>\n",
       "      <td>0.493515</td>\n",
       "      <td>0.025972</td>\n",
       "      <td>0.418666</td>\n",
       "    </tr>\n",
       "  </tbody>\n",
       "</table>\n",
       "</div>"
      ],
      "text/plain": [
       "       eeg_id  seizure_vote  lpd_vote  gpd_vote  lrda_vote  grda_vote  \\\n",
       "0  3911565283      0.020076  0.040848  0.000924   0.493515   0.025972   \n",
       "\n",
       "   other_vote  \n",
       "0    0.418666  "
      ]
     },
     "metadata": {},
     "output_type": "display_data"
    }
   ],
   "source": [
    "submission=pd.read_csv(\"/kaggle/input/hms-harmful-brain-activity-classification/sample_submission.csv\")\n",
    "labels=['seizure','lpd','gpd','lrda','grda','other']\n",
    "for i in range(len(labels)):\n",
    "    submission[f'{labels[i]}_vote']=predictions_v12_s2[:,i] * 0.2271 + predictions_v16_s2[:, i] * 0.2561 + predictions_v17_s2[:, i] * 0.2633 + predictions_v70_s2[:, i] * 0.2535\n",
    "submission.to_csv(\"submission.csv\",index=None)\n",
    "display(submission.head())"
   ]
  },
  {
   "cell_type": "code",
   "execution_count": 39,
   "id": "0473660f",
   "metadata": {
    "execution": {
     "iopub.execute_input": "2024-04-01T01:56:40.358094Z",
     "iopub.status.busy": "2024-04-01T01:56:40.357354Z",
     "iopub.status.idle": "2024-04-01T01:56:40.365999Z",
     "shell.execute_reply": "2024-04-01T01:56:40.365140Z"
    },
    "papermill": {
     "duration": 0.045749,
     "end_time": "2024-04-01T01:56:40.368330",
     "exception": false,
     "start_time": "2024-04-01T01:56:40.322581",
     "status": "completed"
    },
    "tags": []
   },
   "outputs": [
    {
     "data": {
      "text/plain": [
       "0    1.0\n",
       "dtype: float32"
      ]
     },
     "execution_count": 39,
     "metadata": {},
     "output_type": "execute_result"
    }
   ],
   "source": [
    "submission.iloc[:,-6:].sum(axis=1)"
   ]
  },
  {
   "cell_type": "code",
   "execution_count": null,
   "id": "e311c062",
   "metadata": {
    "papermill": {
     "duration": 0.041008,
     "end_time": "2024-04-01T01:56:40.448422",
     "exception": false,
     "start_time": "2024-04-01T01:56:40.407414",
     "status": "completed"
    },
    "tags": []
   },
   "outputs": [],
   "source": []
  },
  {
   "cell_type": "code",
   "execution_count": null,
   "id": "07996631",
   "metadata": {
    "papermill": {
     "duration": 0.032339,
     "end_time": "2024-04-01T01:56:40.514090",
     "exception": false,
     "start_time": "2024-04-01T01:56:40.481751",
     "status": "completed"
    },
    "tags": []
   },
   "outputs": [],
   "source": []
  }
 ],
 "metadata": {
  "kaggle": {
   "accelerator": "gpu",
   "dataSources": [
    {
     "databundleVersionId": 7469972,
     "sourceId": 59093,
     "sourceType": "competition"
    },
    {
     "databundleVersionId": 8104649,
     "datasetId": 4565587,
     "sourceId": 7993458,
     "sourceType": "datasetVersion"
    },
    {
     "databundleVersionId": 8088487,
     "datasetId": 4607494,
     "sourceId": 7978006,
     "sourceType": "datasetVersion"
    },
    {
     "databundleVersionId": 7608602,
     "datasetId": 4377463,
     "sourceId": 7515232,
     "sourceType": "datasetVersion"
    },
    {
     "databundleVersionId": 2420211,
     "datasetId": 492658,
     "sourceId": 2378330,
     "sourceType": "datasetVersion"
    }
   ],
   "dockerImageVersionId": 30636,
   "isGpuEnabled": true,
   "isInternetEnabled": false,
   "language": "python",
   "sourceType": "notebook"
  },
  "kernelspec": {
   "display_name": "Python 3",
   "language": "python",
   "name": "python3"
  },
  "language_info": {
   "codemirror_mode": {
    "name": "ipython",
    "version": 3
   },
   "file_extension": ".py",
   "mimetype": "text/x-python",
   "name": "python",
   "nbconvert_exporter": "python",
   "pygments_lexer": "ipython3",
   "version": "3.10.12"
  },
  "papermill": {
   "default_parameters": {},
   "duration": 160.692845,
   "end_time": "2024-04-01T01:56:44.018186",
   "environment_variables": {},
   "exception": null,
   "input_path": "__notebook__.ipynb",
   "output_path": "__notebook__.ipynb",
   "parameters": {},
   "start_time": "2024-04-01T01:54:03.325341",
   "version": "2.4.0"
  }
 },
 "nbformat": 4,
 "nbformat_minor": 5
}
